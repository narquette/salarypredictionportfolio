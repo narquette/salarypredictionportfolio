{
 "cells": [
  {
   "cell_type": "code",
   "execution_count": 1,
   "metadata": {
    "ExecuteTime": {
     "end_time": "2020-07-07T00:31:48.444220Z",
     "start_time": "2020-07-07T00:31:47.396792Z"
    }
   },
   "outputs": [],
   "source": [
    "import pickle\n",
    "import pandas as pd\n",
    "import os"
   ]
  },
  {
   "cell_type": "code",
   "execution_count": 52,
   "metadata": {
    "ExecuteTime": {
     "end_time": "2020-07-07T00:52:49.972675Z",
     "start_time": "2020-07-07T00:52:47.951898Z"
    }
   },
   "outputs": [
    {
     "data": {
      "text/html": [
       "<div>\n",
       "<style scoped>\n",
       "    .dataframe tbody tr th:only-of-type {\n",
       "        vertical-align: middle;\n",
       "    }\n",
       "\n",
       "    .dataframe tbody tr th {\n",
       "        vertical-align: top;\n",
       "    }\n",
       "\n",
       "    .dataframe thead th {\n",
       "        text-align: right;\n",
       "    }\n",
       "</style>\n",
       "<table border=\"1\" class=\"dataframe\">\n",
       "  <thead>\n",
       "    <tr style=\"text-align: right;\">\n",
       "      <th></th>\n",
       "      <th>companyId</th>\n",
       "      <th>jobType</th>\n",
       "      <th>degree</th>\n",
       "      <th>major</th>\n",
       "      <th>industry</th>\n",
       "      <th>yearsExperience</th>\n",
       "      <th>milesFromMetropolis</th>\n",
       "    </tr>\n",
       "  </thead>\n",
       "  <tbody>\n",
       "    <tr>\n",
       "      <th>0</th>\n",
       "      <td>COMP33</td>\n",
       "      <td>MANAGER</td>\n",
       "      <td>HIGH_SCHOOL</td>\n",
       "      <td>NONE</td>\n",
       "      <td>HEALTH</td>\n",
       "      <td>22.0</td>\n",
       "      <td>73.0</td>\n",
       "    </tr>\n",
       "    <tr>\n",
       "      <th>1</th>\n",
       "      <td>COMP13</td>\n",
       "      <td>JUNIOR</td>\n",
       "      <td>NONE</td>\n",
       "      <td>NONE</td>\n",
       "      <td>AUTO</td>\n",
       "      <td>20.0</td>\n",
       "      <td>47.0</td>\n",
       "    </tr>\n",
       "    <tr>\n",
       "      <th>2</th>\n",
       "      <td>COMP10</td>\n",
       "      <td>CTO</td>\n",
       "      <td>MASTERS</td>\n",
       "      <td>BIOLOGY</td>\n",
       "      <td>HEALTH</td>\n",
       "      <td>17.0</td>\n",
       "      <td>9.0</td>\n",
       "    </tr>\n",
       "    <tr>\n",
       "      <th>3</th>\n",
       "      <td>COMP21</td>\n",
       "      <td>MANAGER</td>\n",
       "      <td>HIGH_SCHOOL</td>\n",
       "      <td>NONE</td>\n",
       "      <td>OIL</td>\n",
       "      <td>14.0</td>\n",
       "      <td>96.0</td>\n",
       "    </tr>\n",
       "    <tr>\n",
       "      <th>4</th>\n",
       "      <td>COMP36</td>\n",
       "      <td>JUNIOR</td>\n",
       "      <td>DOCTORAL</td>\n",
       "      <td>BIOLOGY</td>\n",
       "      <td>OIL</td>\n",
       "      <td>10.0</td>\n",
       "      <td>44.0</td>\n",
       "    </tr>\n",
       "  </tbody>\n",
       "</table>\n",
       "</div>"
      ],
      "text/plain": [
       "  companyId  jobType       degree    major industry  yearsExperience  \\\n",
       "0    COMP33  MANAGER  HIGH_SCHOOL     NONE   HEALTH             22.0   \n",
       "1    COMP13   JUNIOR         NONE     NONE     AUTO             20.0   \n",
       "2    COMP10      CTO      MASTERS  BIOLOGY   HEALTH             17.0   \n",
       "3    COMP21  MANAGER  HIGH_SCHOOL     NONE      OIL             14.0   \n",
       "4    COMP36   JUNIOR     DOCTORAL  BIOLOGY      OIL             10.0   \n",
       "\n",
       "   milesFromMetropolis  \n",
       "0                 73.0  \n",
       "1                 47.0  \n",
       "2                  9.0  \n",
       "3                 96.0  \n",
       "4                 44.0  "
      ]
     },
     "execution_count": 52,
     "metadata": {},
     "output_type": "execute_result"
    }
   ],
   "source": [
    "# load model\n",
    "load_model = pickle.load(open(os.path.join('../models', 'LGboost.sav'), 'rb'))\n",
    "\n",
    "# load data and drop last row\n",
    "test_data = pd.read_csv(os.path.join('../data', 'original', 'test_features.tar.gz'), compression='gzip')\n",
    "test_data.dropna(inplace=True)\n",
    "\n",
    "# reset column names\n",
    "columns = ['jobId', 'companyId', 'jobType', 'degree',\n",
    "                              'major', 'industry', 'yearsExperience', 'milesFromMetropolis']\n",
    "test_data.columns = columns\n",
    "\n",
    "# drop first column as it is not used in the final model\n",
    "test_data.drop('jobId', axis=1, inplace=True)\n",
    "\n",
    "# show first few rows\n",
    "test_data.head()"
   ]
  },
  {
   "cell_type": "code",
   "execution_count": 53,
   "metadata": {
    "ExecuteTime": {
     "end_time": "2020-07-07T00:52:50.770399Z",
     "start_time": "2020-07-07T00:52:49.975095Z"
    }
   },
   "outputs": [],
   "source": [
    "# add a flag if they have an advanced degree\n",
    "degrees = test_data['degree']\n",
    "advanced_degrees = [\n",
    "                1 if degree == 'DOCTORAL' else 1 if degree == 'MASTERS' else 0\n",
    "                for degree in degrees\n",
    "            ]\n",
    "test_data['IsAdvancedDegree'] = advanced_degrees\n",
    "\n",
    "# VicePresident or Above \n",
    "job_types = test_data['jobType']\n",
    "vp_or_c_levels = [\n",
    "                1 if job_type == 'CEO' else 1 if job_type == 'CFO' else\n",
    "                1 if job_type == 'CTO' else 1 if job_type == 'VICE_PRESIDENT' else 0\n",
    "                for job_type in job_types\n",
    "            ]\n",
    "test_data['VicePresidentOrAbove'] = vp_or_c_levels"
   ]
  },
  {
   "cell_type": "code",
   "execution_count": 84,
   "metadata": {
    "ExecuteTime": {
     "end_time": "2020-07-07T01:04:50.944558Z",
     "start_time": "2020-07-07T01:04:50.931106Z"
    }
   },
   "outputs": [
    {
     "data": {
      "text/html": [
       "<div>\n",
       "<style scoped>\n",
       "    .dataframe tbody tr th:only-of-type {\n",
       "        vertical-align: middle;\n",
       "    }\n",
       "\n",
       "    .dataframe tbody tr th {\n",
       "        vertical-align: top;\n",
       "    }\n",
       "\n",
       "    .dataframe thead th {\n",
       "        text-align: right;\n",
       "    }\n",
       "</style>\n",
       "<table border=\"1\" class=\"dataframe\">\n",
       "  <thead>\n",
       "    <tr style=\"text-align: right;\">\n",
       "      <th></th>\n",
       "      <th>companyId</th>\n",
       "      <th>jobType</th>\n",
       "      <th>degree</th>\n",
       "      <th>major</th>\n",
       "      <th>industry</th>\n",
       "      <th>yearsExperience</th>\n",
       "      <th>milesFromMetropolis</th>\n",
       "      <th>IsAdvancedDegree</th>\n",
       "      <th>VicePresidentOrAbove</th>\n",
       "    </tr>\n",
       "  </thead>\n",
       "  <tbody>\n",
       "    <tr>\n",
       "      <th>0</th>\n",
       "      <td>COMP33</td>\n",
       "      <td>MANAGER</td>\n",
       "      <td>HIGH_SCHOOL</td>\n",
       "      <td>NONE</td>\n",
       "      <td>HEALTH</td>\n",
       "      <td>22.0</td>\n",
       "      <td>73.0</td>\n",
       "      <td>0</td>\n",
       "      <td>0</td>\n",
       "    </tr>\n",
       "  </tbody>\n",
       "</table>\n",
       "</div>"
      ],
      "text/plain": [
       "  companyId  jobType       degree major industry  yearsExperience  \\\n",
       "0    COMP33  MANAGER  HIGH_SCHOOL  NONE   HEALTH             22.0   \n",
       "\n",
       "   milesFromMetropolis  IsAdvancedDegree  VicePresidentOrAbove  \n",
       "0                 73.0                 0                     0  "
      ]
     },
     "execution_count": 84,
     "metadata": {},
     "output_type": "execute_result"
    }
   ],
   "source": [
    "# set column names to ensure ordering\n",
    "columns = ['companyId', 'jobType', 'degree', 'major', 'industry', \n",
    "            'yearsExperience', 'milesFromMetropolis', 'IsAdvancedDegree', \n",
    "            'VicePresidentOrAbove']\n",
    "\n",
    "#\n",
    "sample_data = {'companyId': 'COMP33',\n",
    " 'jobType': 'MANAGER',\n",
    " 'degree': 'HIGH_SCHOOL',\n",
    " 'major': 'NONE',\n",
    " 'industry': 'HEALTH',\n",
    " 'yearsExperience': 22.0,\n",
    " 'milesFromMetropolis': 73.0,\n",
    " 'IsAdvancedDegree': 0,\n",
    " 'VicePresidentOrAbove': 0}\n",
    "\n",
    "sample_df = pd.DataFrame(sample_data, index=[0])\n",
    "sample_df"
   ]
  },
  {
   "cell_type": "code",
   "execution_count": 88,
   "metadata": {
    "ExecuteTime": {
     "end_time": "2020-07-07T01:20:39.726988Z",
     "start_time": "2020-07-07T01:20:39.667569Z"
    }
   },
   "outputs": [
    {
     "name": "stdout",
     "output_type": "stream",
     "text": [
      "Your predicted salary is 112430.0\n"
     ]
    }
   ],
   "source": [
    "# set column names to ensure ordering\n",
    "columns = ['companyId', 'jobType', 'degree', 'major', 'industry', \n",
    "            'yearsExperience', 'milesFromMetropolis', 'IsAdvancedDegree', \n",
    "            'VicePresidentOrAbove']\n",
    "\n",
    "# perform predictions                         \n",
    "prediction = load_model.predict(sample_df)\n",
    "print(f\"Your predicted salary is {round(prediction[0], 2) * 1000}\")"
   ]
  },
  {
   "cell_type": "code",
   "execution_count": null,
   "metadata": {},
   "outputs": [],
   "source": []
  }
 ],
 "metadata": {
  "kernelspec": {
   "display_name": "Python (dscience)",
   "language": "python",
   "name": "dscience"
  },
  "language_info": {
   "codemirror_mode": {
    "name": "ipython",
    "version": 3
   },
   "file_extension": ".py",
   "mimetype": "text/x-python",
   "name": "python",
   "nbconvert_exporter": "python",
   "pygments_lexer": "ipython3",
   "version": "3.7.7"
  },
  "toc": {
   "base_numbering": 1,
   "nav_menu": {},
   "number_sections": true,
   "sideBar": true,
   "skip_h1_title": false,
   "title_cell": "Table of Contents",
   "title_sidebar": "Contents",
   "toc_cell": false,
   "toc_position": {},
   "toc_section_display": true,
   "toc_window_display": false
  }
 },
 "nbformat": 4,
 "nbformat_minor": 4
}
