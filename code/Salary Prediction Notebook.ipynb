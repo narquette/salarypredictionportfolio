{
 "cells": [
  {
   "cell_type": "markdown",
   "metadata": {},
   "source": [
    "# Salary Predictions Based on Job Descriptions"
   ]
  },
  {
   "cell_type": "markdown",
   "metadata": {},
   "source": [
    "# Part 1 - DEFINE"
   ]
  },
  {
   "cell_type": "markdown",
   "metadata": {},
   "source": [
    "### ---- 1 Define the problem ----\n",
    "Define salaries based upon the job description.  "
   ]
  },
  {
   "cell_type": "markdown",
   "metadata": {},
   "source": [
    "***The HR department doesn't quiet understand how to set salaries for each job.  They would like to predict the job salary based upon the job description. The supplied data will be used to determine how to appropriate set (predict) the salary range for a given job description.***"
   ]
  },
  {
   "cell_type": "code",
   "execution_count": 6,
   "metadata": {
    "ExecuteTime": {
     "end_time": "2020-06-29T23:10:43.616758Z",
     "start_time": "2020-06-29T23:10:41.784608Z"
    }
   },
   "outputs": [],
   "source": [
    "# import your libraries\n",
    "import pandas as pd\n",
    "import sklearn as sk\n",
    "import numpy as np\n",
    "import matplotlib.pyplot as plt\n",
    "import os\n",
    "from pandas_profiling import ProfileReport\n",
    "import seaborn as sns\n",
    "from IPython.display import HTML, IFrame\n",
    "from helperFile import random_tune, MachineLearning\n",
    "from sklearn.ensemble import RandomForestRegressor\n",
    "\n",
    "# etc\n",
    "\n",
    "\n",
    "# your info here\n",
    "__author__ = \"Nicholas Arquette\"\n",
    "__email__ = \"nicholas.arquette@gmail.com\""
   ]
  },
  {
   "cell_type": "markdown",
   "metadata": {},
   "source": [
    "## Part 2 - DISCOVER"
   ]
  },
  {
   "cell_type": "markdown",
   "metadata": {},
   "source": [
    "### ---- 2 Load the data ----\n",
    "\n"
   ]
  },
  {
   "cell_type": "code",
   "execution_count": 7,
   "metadata": {
    "ExecuteTime": {
     "end_time": "2020-06-29T23:10:48.539147Z",
     "start_time": "2020-06-29T23:10:43.620312Z"
    }
   },
   "outputs": [],
   "source": [
    "# load the data into a Pandas dataframe\n",
    "train_features = pd.read_csv(os.path.join('../data', 'original', 'train_features.tar.gz'),\n",
    "                             compression='gzip', header=0, sep=',', low_memory=False)\n",
    "# drop na columns\n",
    "train_features.dropna(inplace=True)\n",
    "\n",
    "# set column name\n",
    "train_features.columns = ['jobId', 'companyId', 'jobType', 'degree',\n",
    "                          'major', 'industry', 'yearsExperience', 'milesFromMetropolis']\n",
    "\n",
    "# load train salaries\n",
    "train_salaries = pd.read_csv(os.path.join('../data', 'original', 'train_salaries.tar.gz'),\n",
    "                             compression='gzip', header=0, sep=',', low_memory=False)\n",
    "\n",
    "# drop na columsn\n",
    "train_salaries.dropna(inplace=True)\n",
    "\n",
    "# change the column name\n",
    "train_salaries.columns = ['jobId', 'salary']"
   ]
  },
  {
   "cell_type": "code",
   "execution_count": 8,
   "metadata": {
    "ExecuteTime": {
     "end_time": "2020-06-29T23:10:49.357910Z",
     "start_time": "2020-06-29T23:10:48.543449Z"
    }
   },
   "outputs": [],
   "source": [
    "# build a dictionary to store train jobids and salaries\n",
    "salary_dict = dict(zip(train_features.jobId, train_salaries.salary))"
   ]
  },
  {
   "cell_type": "code",
   "execution_count": 9,
   "metadata": {
    "ExecuteTime": {
     "end_time": "2020-06-29T23:10:50.226183Z",
     "start_time": "2020-06-29T23:10:49.362981Z"
    }
   },
   "outputs": [],
   "source": [
    "# copy train feature data frame\n",
    "train_data = train_features.copy()\n",
    "\n",
    "# add new column to train data\n",
    "train_data['salary'] = train_salaries['jobId'].apply(\n",
    "    lambda job_id: salary_dict.get(job_id))"
   ]
  },
  {
   "cell_type": "code",
   "execution_count": 10,
   "metadata": {
    "ExecuteTime": {
     "end_time": "2020-06-29T23:10:50.300705Z",
     "start_time": "2020-06-29T23:10:50.229699Z"
    }
   },
   "outputs": [],
   "source": [
    "# delete train features and train salaries from memory\n",
    "del train_features\n",
    "del train_salaries"
   ]
  },
  {
   "cell_type": "code",
   "execution_count": 11,
   "metadata": {
    "ExecuteTime": {
     "end_time": "2020-06-29T23:10:50.376237Z",
     "start_time": "2020-06-29T23:10:50.303993Z"
    }
   },
   "outputs": [
    {
     "data": {
      "text/html": [
       "<div>\n",
       "<style scoped>\n",
       "    .dataframe tbody tr th:only-of-type {\n",
       "        vertical-align: middle;\n",
       "    }\n",
       "\n",
       "    .dataframe tbody tr th {\n",
       "        vertical-align: top;\n",
       "    }\n",
       "\n",
       "    .dataframe thead th {\n",
       "        text-align: right;\n",
       "    }\n",
       "</style>\n",
       "<table border=\"1\" class=\"dataframe\">\n",
       "  <thead>\n",
       "    <tr style=\"text-align: right;\">\n",
       "      <th></th>\n",
       "      <th>jobId</th>\n",
       "      <th>companyId</th>\n",
       "      <th>jobType</th>\n",
       "      <th>degree</th>\n",
       "      <th>major</th>\n",
       "      <th>industry</th>\n",
       "      <th>yearsExperience</th>\n",
       "      <th>milesFromMetropolis</th>\n",
       "      <th>salary</th>\n",
       "    </tr>\n",
       "  </thead>\n",
       "  <tbody>\n",
       "    <tr>\n",
       "      <th>0</th>\n",
       "      <td>JOB1362684407687</td>\n",
       "      <td>COMP37</td>\n",
       "      <td>CFO</td>\n",
       "      <td>MASTERS</td>\n",
       "      <td>MATH</td>\n",
       "      <td>HEALTH</td>\n",
       "      <td>10.0</td>\n",
       "      <td>83.0</td>\n",
       "      <td>130.0</td>\n",
       "    </tr>\n",
       "    <tr>\n",
       "      <th>1</th>\n",
       "      <td>JOB1362684407688</td>\n",
       "      <td>COMP19</td>\n",
       "      <td>CEO</td>\n",
       "      <td>HIGH_SCHOOL</td>\n",
       "      <td>NONE</td>\n",
       "      <td>WEB</td>\n",
       "      <td>3.0</td>\n",
       "      <td>73.0</td>\n",
       "      <td>101.0</td>\n",
       "    </tr>\n",
       "    <tr>\n",
       "      <th>2</th>\n",
       "      <td>JOB1362684407689</td>\n",
       "      <td>COMP52</td>\n",
       "      <td>VICE_PRESIDENT</td>\n",
       "      <td>DOCTORAL</td>\n",
       "      <td>PHYSICS</td>\n",
       "      <td>HEALTH</td>\n",
       "      <td>10.0</td>\n",
       "      <td>38.0</td>\n",
       "      <td>137.0</td>\n",
       "    </tr>\n",
       "    <tr>\n",
       "      <th>3</th>\n",
       "      <td>JOB1362684407690</td>\n",
       "      <td>COMP38</td>\n",
       "      <td>MANAGER</td>\n",
       "      <td>DOCTORAL</td>\n",
       "      <td>CHEMISTRY</td>\n",
       "      <td>AUTO</td>\n",
       "      <td>8.0</td>\n",
       "      <td>17.0</td>\n",
       "      <td>142.0</td>\n",
       "    </tr>\n",
       "    <tr>\n",
       "      <th>4</th>\n",
       "      <td>JOB1362684407691</td>\n",
       "      <td>COMP7</td>\n",
       "      <td>VICE_PRESIDENT</td>\n",
       "      <td>BACHELORS</td>\n",
       "      <td>PHYSICS</td>\n",
       "      <td>FINANCE</td>\n",
       "      <td>8.0</td>\n",
       "      <td>16.0</td>\n",
       "      <td>163.0</td>\n",
       "    </tr>\n",
       "  </tbody>\n",
       "</table>\n",
       "</div>"
      ],
      "text/plain": [
       "              jobId companyId         jobType       degree      major  \\\n",
       "0  JOB1362684407687    COMP37             CFO      MASTERS       MATH   \n",
       "1  JOB1362684407688    COMP19             CEO  HIGH_SCHOOL       NONE   \n",
       "2  JOB1362684407689    COMP52  VICE_PRESIDENT     DOCTORAL    PHYSICS   \n",
       "3  JOB1362684407690    COMP38         MANAGER     DOCTORAL  CHEMISTRY   \n",
       "4  JOB1362684407691     COMP7  VICE_PRESIDENT    BACHELORS    PHYSICS   \n",
       "\n",
       "  industry  yearsExperience  milesFromMetropolis  salary  \n",
       "0   HEALTH             10.0                 83.0   130.0  \n",
       "1      WEB              3.0                 73.0   101.0  \n",
       "2   HEALTH             10.0                 38.0   137.0  \n",
       "3     AUTO              8.0                 17.0   142.0  \n",
       "4  FINANCE              8.0                 16.0   163.0  "
      ]
     },
     "execution_count": 11,
     "metadata": {},
     "output_type": "execute_result"
    }
   ],
   "source": [
    "# show a few rows of data\n",
    "train_data.head()"
   ]
  },
  {
   "cell_type": "code",
   "execution_count": 12,
   "metadata": {
    "ExecuteTime": {
     "end_time": "2020-06-29T23:10:50.722001Z",
     "start_time": "2020-06-29T23:10:50.379804Z"
    }
   },
   "outputs": [
    {
     "data": {
      "text/html": [
       "<div>\n",
       "<style scoped>\n",
       "    .dataframe tbody tr th:only-of-type {\n",
       "        vertical-align: middle;\n",
       "    }\n",
       "\n",
       "    .dataframe tbody tr th {\n",
       "        vertical-align: top;\n",
       "    }\n",
       "\n",
       "    .dataframe thead th {\n",
       "        text-align: right;\n",
       "    }\n",
       "</style>\n",
       "<table border=\"1\" class=\"dataframe\">\n",
       "  <thead>\n",
       "    <tr style=\"text-align: right;\">\n",
       "      <th></th>\n",
       "      <th>yearsExperience</th>\n",
       "      <th>milesFromMetropolis</th>\n",
       "      <th>salary</th>\n",
       "    </tr>\n",
       "  </thead>\n",
       "  <tbody>\n",
       "    <tr>\n",
       "      <th>count</th>\n",
       "      <td>1000000.000000</td>\n",
       "      <td>1000000.000000</td>\n",
       "      <td>1000000.000000</td>\n",
       "    </tr>\n",
       "    <tr>\n",
       "      <th>mean</th>\n",
       "      <td>11.992386</td>\n",
       "      <td>49.529260</td>\n",
       "      <td>116.061818</td>\n",
       "    </tr>\n",
       "    <tr>\n",
       "      <th>std</th>\n",
       "      <td>7.212391</td>\n",
       "      <td>28.877733</td>\n",
       "      <td>38.717936</td>\n",
       "    </tr>\n",
       "    <tr>\n",
       "      <th>min</th>\n",
       "      <td>0.000000</td>\n",
       "      <td>0.000000</td>\n",
       "      <td>0.000000</td>\n",
       "    </tr>\n",
       "    <tr>\n",
       "      <th>25%</th>\n",
       "      <td>6.000000</td>\n",
       "      <td>25.000000</td>\n",
       "      <td>88.000000</td>\n",
       "    </tr>\n",
       "    <tr>\n",
       "      <th>50%</th>\n",
       "      <td>12.000000</td>\n",
       "      <td>50.000000</td>\n",
       "      <td>114.000000</td>\n",
       "    </tr>\n",
       "    <tr>\n",
       "      <th>75%</th>\n",
       "      <td>18.000000</td>\n",
       "      <td>75.000000</td>\n",
       "      <td>141.000000</td>\n",
       "    </tr>\n",
       "    <tr>\n",
       "      <th>max</th>\n",
       "      <td>24.000000</td>\n",
       "      <td>99.000000</td>\n",
       "      <td>301.000000</td>\n",
       "    </tr>\n",
       "  </tbody>\n",
       "</table>\n",
       "</div>"
      ],
      "text/plain": [
       "       yearsExperience  milesFromMetropolis          salary\n",
       "count   1000000.000000       1000000.000000  1000000.000000\n",
       "mean         11.992386            49.529260      116.061818\n",
       "std           7.212391            28.877733       38.717936\n",
       "min           0.000000             0.000000        0.000000\n",
       "25%           6.000000            25.000000       88.000000\n",
       "50%          12.000000            50.000000      114.000000\n",
       "75%          18.000000            75.000000      141.000000\n",
       "max          24.000000            99.000000      301.000000"
      ]
     },
     "execution_count": 12,
     "metadata": {},
     "output_type": "execute_result"
    }
   ],
   "source": [
    "# describe the train data set\n",
    "train_data.describe()"
   ]
  },
  {
   "cell_type": "code",
   "execution_count": 13,
   "metadata": {
    "ExecuteTime": {
     "end_time": "2020-06-29T23:10:50.756474Z",
     "start_time": "2020-06-29T23:10:50.726828Z"
    }
   },
   "outputs": [
    {
     "data": {
      "text/html": [
       "<div>\n",
       "<style scoped>\n",
       "    .dataframe tbody tr th:only-of-type {\n",
       "        vertical-align: middle;\n",
       "    }\n",
       "\n",
       "    .dataframe tbody tr th {\n",
       "        vertical-align: top;\n",
       "    }\n",
       "\n",
       "    .dataframe thead th {\n",
       "        text-align: right;\n",
       "    }\n",
       "</style>\n",
       "<table border=\"1\" class=\"dataframe\">\n",
       "  <thead>\n",
       "    <tr style=\"text-align: right;\">\n",
       "      <th></th>\n",
       "      <th>jobId</th>\n",
       "      <th>companyId</th>\n",
       "      <th>jobType</th>\n",
       "      <th>degree</th>\n",
       "      <th>major</th>\n",
       "      <th>industry</th>\n",
       "      <th>yearsExperience</th>\n",
       "      <th>milesFromMetropolis</th>\n",
       "      <th>salary</th>\n",
       "    </tr>\n",
       "  </thead>\n",
       "  <tbody>\n",
       "    <tr>\n",
       "      <th>30559</th>\n",
       "      <td>JOB1362684438246</td>\n",
       "      <td>COMP44</td>\n",
       "      <td>JUNIOR</td>\n",
       "      <td>DOCTORAL</td>\n",
       "      <td>MATH</td>\n",
       "      <td>AUTO</td>\n",
       "      <td>11.0</td>\n",
       "      <td>7.0</td>\n",
       "      <td>0.0</td>\n",
       "    </tr>\n",
       "    <tr>\n",
       "      <th>495984</th>\n",
       "      <td>JOB1362684903671</td>\n",
       "      <td>COMP34</td>\n",
       "      <td>JUNIOR</td>\n",
       "      <td>NONE</td>\n",
       "      <td>NONE</td>\n",
       "      <td>OIL</td>\n",
       "      <td>1.0</td>\n",
       "      <td>25.0</td>\n",
       "      <td>0.0</td>\n",
       "    </tr>\n",
       "    <tr>\n",
       "      <th>652076</th>\n",
       "      <td>JOB1362685059763</td>\n",
       "      <td>COMP25</td>\n",
       "      <td>CTO</td>\n",
       "      <td>HIGH_SCHOOL</td>\n",
       "      <td>NONE</td>\n",
       "      <td>AUTO</td>\n",
       "      <td>6.0</td>\n",
       "      <td>60.0</td>\n",
       "      <td>0.0</td>\n",
       "    </tr>\n",
       "    <tr>\n",
       "      <th>816129</th>\n",
       "      <td>JOB1362685223816</td>\n",
       "      <td>COMP42</td>\n",
       "      <td>MANAGER</td>\n",
       "      <td>DOCTORAL</td>\n",
       "      <td>ENGINEERING</td>\n",
       "      <td>FINANCE</td>\n",
       "      <td>18.0</td>\n",
       "      <td>6.0</td>\n",
       "      <td>0.0</td>\n",
       "    </tr>\n",
       "    <tr>\n",
       "      <th>828156</th>\n",
       "      <td>JOB1362685235843</td>\n",
       "      <td>COMP40</td>\n",
       "      <td>VICE_PRESIDENT</td>\n",
       "      <td>MASTERS</td>\n",
       "      <td>ENGINEERING</td>\n",
       "      <td>WEB</td>\n",
       "      <td>3.0</td>\n",
       "      <td>29.0</td>\n",
       "      <td>0.0</td>\n",
       "    </tr>\n",
       "  </tbody>\n",
       "</table>\n",
       "</div>"
      ],
      "text/plain": [
       "                   jobId companyId         jobType       degree        major  \\\n",
       "30559   JOB1362684438246    COMP44          JUNIOR     DOCTORAL         MATH   \n",
       "495984  JOB1362684903671    COMP34          JUNIOR         NONE         NONE   \n",
       "652076  JOB1362685059763    COMP25             CTO  HIGH_SCHOOL         NONE   \n",
       "816129  JOB1362685223816    COMP42         MANAGER     DOCTORAL  ENGINEERING   \n",
       "828156  JOB1362685235843    COMP40  VICE_PRESIDENT      MASTERS  ENGINEERING   \n",
       "\n",
       "       industry  yearsExperience  milesFromMetropolis  salary  \n",
       "30559      AUTO             11.0                  7.0     0.0  \n",
       "495984      OIL              1.0                 25.0     0.0  \n",
       "652076     AUTO              6.0                 60.0     0.0  \n",
       "816129  FINANCE             18.0                  6.0     0.0  \n",
       "828156      WEB              3.0                 29.0     0.0  "
      ]
     },
     "execution_count": 13,
     "metadata": {},
     "output_type": "execute_result"
    }
   ],
   "source": [
    "# look at salaries at zero\n",
    "train_data.loc[train_data['salary'] <= 0]"
   ]
  },
  {
   "cell_type": "code",
   "execution_count": 14,
   "metadata": {
    "ExecuteTime": {
     "end_time": "2020-06-29T23:10:50.866021Z",
     "start_time": "2020-06-29T23:10:50.761647Z"
    }
   },
   "outputs": [
    {
     "data": {
      "text/html": [
       "<div>\n",
       "<style scoped>\n",
       "    .dataframe tbody tr th:only-of-type {\n",
       "        vertical-align: middle;\n",
       "    }\n",
       "\n",
       "    .dataframe tbody tr th {\n",
       "        vertical-align: top;\n",
       "    }\n",
       "\n",
       "    .dataframe thead th {\n",
       "        text-align: right;\n",
       "    }\n",
       "</style>\n",
       "<table border=\"1\" class=\"dataframe\">\n",
       "  <thead>\n",
       "    <tr style=\"text-align: right;\">\n",
       "      <th></th>\n",
       "      <th>jobId</th>\n",
       "      <th>companyId</th>\n",
       "      <th>jobType</th>\n",
       "      <th>degree</th>\n",
       "      <th>major</th>\n",
       "      <th>industry</th>\n",
       "      <th>yearsExperience</th>\n",
       "      <th>milesFromMetropolis</th>\n",
       "      <th>salary</th>\n",
       "    </tr>\n",
       "  </thead>\n",
       "  <tbody>\n",
       "    <tr>\n",
       "      <th>0</th>\n",
       "      <td>JOB1362684407687</td>\n",
       "      <td>COMP37</td>\n",
       "      <td>CFO</td>\n",
       "      <td>MASTERS</td>\n",
       "      <td>MATH</td>\n",
       "      <td>HEALTH</td>\n",
       "      <td>10.0</td>\n",
       "      <td>83.0</td>\n",
       "      <td>130.0</td>\n",
       "    </tr>\n",
       "    <tr>\n",
       "      <th>1</th>\n",
       "      <td>JOB1362684407688</td>\n",
       "      <td>COMP19</td>\n",
       "      <td>CEO</td>\n",
       "      <td>HIGH_SCHOOL</td>\n",
       "      <td>NONE</td>\n",
       "      <td>WEB</td>\n",
       "      <td>3.0</td>\n",
       "      <td>73.0</td>\n",
       "      <td>101.0</td>\n",
       "    </tr>\n",
       "    <tr>\n",
       "      <th>2</th>\n",
       "      <td>JOB1362684407689</td>\n",
       "      <td>COMP52</td>\n",
       "      <td>VICE_PRESIDENT</td>\n",
       "      <td>DOCTORAL</td>\n",
       "      <td>PHYSICS</td>\n",
       "      <td>HEALTH</td>\n",
       "      <td>10.0</td>\n",
       "      <td>38.0</td>\n",
       "      <td>137.0</td>\n",
       "    </tr>\n",
       "    <tr>\n",
       "      <th>3</th>\n",
       "      <td>JOB1362684407690</td>\n",
       "      <td>COMP38</td>\n",
       "      <td>MANAGER</td>\n",
       "      <td>DOCTORAL</td>\n",
       "      <td>CHEMISTRY</td>\n",
       "      <td>AUTO</td>\n",
       "      <td>8.0</td>\n",
       "      <td>17.0</td>\n",
       "      <td>142.0</td>\n",
       "    </tr>\n",
       "    <tr>\n",
       "      <th>4</th>\n",
       "      <td>JOB1362684407691</td>\n",
       "      <td>COMP7</td>\n",
       "      <td>VICE_PRESIDENT</td>\n",
       "      <td>BACHELORS</td>\n",
       "      <td>PHYSICS</td>\n",
       "      <td>FINANCE</td>\n",
       "      <td>8.0</td>\n",
       "      <td>16.0</td>\n",
       "      <td>163.0</td>\n",
       "    </tr>\n",
       "  </tbody>\n",
       "</table>\n",
       "</div>"
      ],
      "text/plain": [
       "              jobId companyId         jobType       degree      major  \\\n",
       "0  JOB1362684407687    COMP37             CFO      MASTERS       MATH   \n",
       "1  JOB1362684407688    COMP19             CEO  HIGH_SCHOOL       NONE   \n",
       "2  JOB1362684407689    COMP52  VICE_PRESIDENT     DOCTORAL    PHYSICS   \n",
       "3  JOB1362684407690    COMP38         MANAGER     DOCTORAL  CHEMISTRY   \n",
       "4  JOB1362684407691     COMP7  VICE_PRESIDENT    BACHELORS    PHYSICS   \n",
       "\n",
       "  industry  yearsExperience  milesFromMetropolis  salary  \n",
       "0   HEALTH             10.0                 83.0   130.0  \n",
       "1      WEB              3.0                 73.0   101.0  \n",
       "2   HEALTH             10.0                 38.0   137.0  \n",
       "3     AUTO              8.0                 17.0   142.0  \n",
       "4  FINANCE              8.0                 16.0   163.0  "
      ]
     },
     "execution_count": 14,
     "metadata": {},
     "output_type": "execute_result"
    }
   ],
   "source": [
    "# show the first few rows\n",
    "train_data.head()"
   ]
  },
  {
   "cell_type": "code",
   "execution_count": 15,
   "metadata": {
    "ExecuteTime": {
     "end_time": "2020-06-29T23:10:51.419471Z",
     "start_time": "2020-06-29T23:10:50.910788Z"
    }
   },
   "outputs": [
    {
     "name": "stdout",
     "output_type": "stream",
     "text": [
      "<class 'pandas.core.frame.DataFrame'>\n",
      "Int64Index: 1000000 entries, 0 to 999999\n",
      "Data columns (total 9 columns):\n",
      " #   Column               Non-Null Count    Dtype  \n",
      "---  ------               --------------    -----  \n",
      " 0   jobId                1000000 non-null  object \n",
      " 1   companyId            1000000 non-null  object \n",
      " 2   jobType              1000000 non-null  object \n",
      " 3   degree               1000000 non-null  object \n",
      " 4   major                1000000 non-null  object \n",
      " 5   industry             1000000 non-null  object \n",
      " 6   yearsExperience      1000000 non-null  float64\n",
      " 7   milesFromMetropolis  1000000 non-null  float64\n",
      " 8   salary               1000000 non-null  float64\n",
      "dtypes: float64(3), object(6)\n",
      "memory usage: 76.3+ MB\n"
     ]
    }
   ],
   "source": [
    "# show if there are any null values\n",
    "train_data.info()"
   ]
  },
  {
   "cell_type": "code",
   "execution_count": 16,
   "metadata": {
    "ExecuteTime": {
     "end_time": "2020-06-29T23:10:51.619566Z",
     "start_time": "2020-06-29T23:10:51.423985Z"
    }
   },
   "outputs": [
    {
     "data": {
      "text/plain": [
       "SENIOR            125886\n",
       "VICE_PRESIDENT    125235\n",
       "MANAGER           125121\n",
       "CTO               125046\n",
       "JANITOR           124971\n",
       "CEO               124778\n",
       "JUNIOR            124594\n",
       "CFO               124369\n",
       "Name: jobType, dtype: int64"
      ]
     },
     "execution_count": 16,
     "metadata": {},
     "output_type": "execute_result"
    }
   ],
   "source": [
    "# show the counts by job\n",
    "train_data.jobType.value_counts()"
   ]
  },
  {
   "cell_type": "code",
   "execution_count": 17,
   "metadata": {
    "ExecuteTime": {
     "end_time": "2020-06-29T23:10:51.848076Z",
     "start_time": "2020-06-29T23:10:51.623514Z"
    }
   },
   "outputs": [
    {
     "data": {
      "text/plain": [
       "COMP39    16193\n",
       "COMP35    16114\n",
       "COMP59    16066\n",
       "COMP30    16041\n",
       "COMP3     16028\n",
       "          ...  \n",
       "COMP17    15715\n",
       "COMP0     15666\n",
       "COMP2     15641\n",
       "COMP8     15638\n",
       "COMP57    15635\n",
       "Name: companyId, Length: 63, dtype: int64"
      ]
     },
     "execution_count": 17,
     "metadata": {},
     "output_type": "execute_result"
    }
   ],
   "source": [
    "# show the counts by Company ID\n",
    "train_data.companyId.value_counts()"
   ]
  },
  {
   "cell_type": "code",
   "execution_count": 18,
   "metadata": {
    "ExecuteTime": {
     "end_time": "2020-06-29T23:10:52.117435Z",
     "start_time": "2020-06-29T23:10:51.897119Z"
    }
   },
   "outputs": [
    {
     "data": {
      "text/plain": [
       "HIGH_SCHOOL    236976\n",
       "NONE           236854\n",
       "BACHELORS      175495\n",
       "DOCTORAL       175364\n",
       "MASTERS        175311\n",
       "Name: degree, dtype: int64"
      ]
     },
     "execution_count": 18,
     "metadata": {},
     "output_type": "execute_result"
    }
   ],
   "source": [
    "# show the count of features by Degree\n",
    "train_data.degree.value_counts()"
   ]
  },
  {
   "cell_type": "code",
   "execution_count": 19,
   "metadata": {
    "ExecuteTime": {
     "end_time": "2020-06-29T23:10:52.354370Z",
     "start_time": "2020-06-29T23:10:52.156475Z"
    }
   },
   "outputs": [
    {
     "data": {
      "text/plain": [
       "NONE           532355\n",
       "CHEMISTRY       58875\n",
       "LITERATURE      58684\n",
       "ENGINEERING     58596\n",
       "BUSINESS        58518\n",
       "PHYSICS         58410\n",
       "COMPSCI         58382\n",
       "BIOLOGY         58379\n",
       "MATH            57801\n",
       "Name: major, dtype: int64"
      ]
     },
     "execution_count": 19,
     "metadata": {},
     "output_type": "execute_result"
    }
   ],
   "source": [
    "# show the counts by major\n",
    "train_data.major.value_counts()"
   ]
  },
  {
   "cell_type": "code",
   "execution_count": 20,
   "metadata": {
    "ExecuteTime": {
     "end_time": "2020-06-29T23:10:52.856904Z",
     "start_time": "2020-06-29T23:10:52.358628Z"
    }
   },
   "outputs": [
    {
     "data": {
      "text/plain": [
       "NONE           532355\n",
       "CHEMISTRY       58875\n",
       "LITERATURE      58684\n",
       "ENGINEERING     58596\n",
       "BUSINESS        58518\n",
       "PHYSICS         58410\n",
       "COMPSCI         58382\n",
       "BIOLOGY         58379\n",
       "MATH            57801\n",
       "Name: major, dtype: int64"
      ]
     },
     "execution_count": 20,
     "metadata": {},
     "output_type": "execute_result"
    }
   ],
   "source": [
    "# show people the major information for those that a degree not equal to high school or none\n",
    "train_data.loc[(train_data['degree'] != 'HIGH_SCHOOL') |\n",
    "               (train_data['degree'] != 'NONE'), 'major'].value_counts()"
   ]
  },
  {
   "cell_type": "code",
   "execution_count": 21,
   "metadata": {
    "ExecuteTime": {
     "end_time": "2020-06-29T23:10:53.337466Z",
     "start_time": "2020-06-29T23:10:52.860609Z"
    }
   },
   "outputs": [
    {
     "name": "stderr",
     "output_type": "stream",
     "text": [
      "/home/narquette/anaconda/envs/dscience/lib/python3.7/site-packages/ipykernel_launcher.py:4: FutureWarning: Indexing with multiple keys (implicitly converted to a tuple of keys) will be deprecated, use a list instead.\n",
      "  after removing the cwd from sys.path.\n"
     ]
    },
    {
     "data": {
      "text/html": [
       "<div>\n",
       "<style scoped>\n",
       "    .dataframe tbody tr th:only-of-type {\n",
       "        vertical-align: middle;\n",
       "    }\n",
       "\n",
       "    .dataframe tbody tr th {\n",
       "        vertical-align: top;\n",
       "    }\n",
       "\n",
       "    .dataframe thead th {\n",
       "        text-align: right;\n",
       "    }\n",
       "</style>\n",
       "<table border=\"1\" class=\"dataframe\">\n",
       "  <thead>\n",
       "    <tr style=\"text-align: right;\">\n",
       "      <th></th>\n",
       "      <th></th>\n",
       "      <th>major</th>\n",
       "      <th>degree</th>\n",
       "    </tr>\n",
       "    <tr>\n",
       "      <th>major</th>\n",
       "      <th>degree</th>\n",
       "      <th></th>\n",
       "      <th></th>\n",
       "    </tr>\n",
       "  </thead>\n",
       "  <tbody>\n",
       "    <tr>\n",
       "      <th rowspan=\"3\" valign=\"top\">BIOLOGY</th>\n",
       "      <th>BACHELORS</th>\n",
       "      <td>19619</td>\n",
       "      <td>19619</td>\n",
       "    </tr>\n",
       "    <tr>\n",
       "      <th>DOCTORAL</th>\n",
       "      <td>19405</td>\n",
       "      <td>19405</td>\n",
       "    </tr>\n",
       "    <tr>\n",
       "      <th>MASTERS</th>\n",
       "      <td>19355</td>\n",
       "      <td>19355</td>\n",
       "    </tr>\n",
       "    <tr>\n",
       "      <th rowspan=\"3\" valign=\"top\">BUSINESS</th>\n",
       "      <th>BACHELORS</th>\n",
       "      <td>19458</td>\n",
       "      <td>19458</td>\n",
       "    </tr>\n",
       "    <tr>\n",
       "      <th>DOCTORAL</th>\n",
       "      <td>19542</td>\n",
       "      <td>19542</td>\n",
       "    </tr>\n",
       "    <tr>\n",
       "      <th>MASTERS</th>\n",
       "      <td>19518</td>\n",
       "      <td>19518</td>\n",
       "    </tr>\n",
       "    <tr>\n",
       "      <th rowspan=\"3\" valign=\"top\">CHEMISTRY</th>\n",
       "      <th>BACHELORS</th>\n",
       "      <td>19681</td>\n",
       "      <td>19681</td>\n",
       "    </tr>\n",
       "    <tr>\n",
       "      <th>DOCTORAL</th>\n",
       "      <td>19575</td>\n",
       "      <td>19575</td>\n",
       "    </tr>\n",
       "    <tr>\n",
       "      <th>MASTERS</th>\n",
       "      <td>19619</td>\n",
       "      <td>19619</td>\n",
       "    </tr>\n",
       "    <tr>\n",
       "      <th rowspan=\"3\" valign=\"top\">COMPSCI</th>\n",
       "      <th>BACHELORS</th>\n",
       "      <td>19577</td>\n",
       "      <td>19577</td>\n",
       "    </tr>\n",
       "    <tr>\n",
       "      <th>DOCTORAL</th>\n",
       "      <td>19327</td>\n",
       "      <td>19327</td>\n",
       "    </tr>\n",
       "    <tr>\n",
       "      <th>MASTERS</th>\n",
       "      <td>19478</td>\n",
       "      <td>19478</td>\n",
       "    </tr>\n",
       "    <tr>\n",
       "      <th rowspan=\"3\" valign=\"top\">ENGINEERING</th>\n",
       "      <th>BACHELORS</th>\n",
       "      <td>19672</td>\n",
       "      <td>19672</td>\n",
       "    </tr>\n",
       "    <tr>\n",
       "      <th>DOCTORAL</th>\n",
       "      <td>19428</td>\n",
       "      <td>19428</td>\n",
       "    </tr>\n",
       "    <tr>\n",
       "      <th>MASTERS</th>\n",
       "      <td>19496</td>\n",
       "      <td>19496</td>\n",
       "    </tr>\n",
       "    <tr>\n",
       "      <th rowspan=\"3\" valign=\"top\">LITERATURE</th>\n",
       "      <th>BACHELORS</th>\n",
       "      <td>19421</td>\n",
       "      <td>19421</td>\n",
       "    </tr>\n",
       "    <tr>\n",
       "      <th>DOCTORAL</th>\n",
       "      <td>19594</td>\n",
       "      <td>19594</td>\n",
       "    </tr>\n",
       "    <tr>\n",
       "      <th>MASTERS</th>\n",
       "      <td>19669</td>\n",
       "      <td>19669</td>\n",
       "    </tr>\n",
       "    <tr>\n",
       "      <th rowspan=\"3\" valign=\"top\">MATH</th>\n",
       "      <th>BACHELORS</th>\n",
       "      <td>19262</td>\n",
       "      <td>19262</td>\n",
       "    </tr>\n",
       "    <tr>\n",
       "      <th>DOCTORAL</th>\n",
       "      <td>19357</td>\n",
       "      <td>19357</td>\n",
       "    </tr>\n",
       "    <tr>\n",
       "      <th>MASTERS</th>\n",
       "      <td>19182</td>\n",
       "      <td>19182</td>\n",
       "    </tr>\n",
       "    <tr>\n",
       "      <th rowspan=\"5\" valign=\"top\">NONE</th>\n",
       "      <th>BACHELORS</th>\n",
       "      <td>19498</td>\n",
       "      <td>19498</td>\n",
       "    </tr>\n",
       "    <tr>\n",
       "      <th>DOCTORAL</th>\n",
       "      <td>19719</td>\n",
       "      <td>19719</td>\n",
       "    </tr>\n",
       "    <tr>\n",
       "      <th>HIGH_SCHOOL</th>\n",
       "      <td>236976</td>\n",
       "      <td>236976</td>\n",
       "    </tr>\n",
       "    <tr>\n",
       "      <th>MASTERS</th>\n",
       "      <td>19308</td>\n",
       "      <td>19308</td>\n",
       "    </tr>\n",
       "    <tr>\n",
       "      <th>NONE</th>\n",
       "      <td>236854</td>\n",
       "      <td>236854</td>\n",
       "    </tr>\n",
       "    <tr>\n",
       "      <th rowspan=\"3\" valign=\"top\">PHYSICS</th>\n",
       "      <th>BACHELORS</th>\n",
       "      <td>19307</td>\n",
       "      <td>19307</td>\n",
       "    </tr>\n",
       "    <tr>\n",
       "      <th>DOCTORAL</th>\n",
       "      <td>19417</td>\n",
       "      <td>19417</td>\n",
       "    </tr>\n",
       "    <tr>\n",
       "      <th>MASTERS</th>\n",
       "      <td>19686</td>\n",
       "      <td>19686</td>\n",
       "    </tr>\n",
       "  </tbody>\n",
       "</table>\n",
       "</div>"
      ],
      "text/plain": [
       "                          major  degree\n",
       "major       degree                     \n",
       "BIOLOGY     BACHELORS     19619   19619\n",
       "            DOCTORAL      19405   19405\n",
       "            MASTERS       19355   19355\n",
       "BUSINESS    BACHELORS     19458   19458\n",
       "            DOCTORAL      19542   19542\n",
       "            MASTERS       19518   19518\n",
       "CHEMISTRY   BACHELORS     19681   19681\n",
       "            DOCTORAL      19575   19575\n",
       "            MASTERS       19619   19619\n",
       "COMPSCI     BACHELORS     19577   19577\n",
       "            DOCTORAL      19327   19327\n",
       "            MASTERS       19478   19478\n",
       "ENGINEERING BACHELORS     19672   19672\n",
       "            DOCTORAL      19428   19428\n",
       "            MASTERS       19496   19496\n",
       "LITERATURE  BACHELORS     19421   19421\n",
       "            DOCTORAL      19594   19594\n",
       "            MASTERS       19669   19669\n",
       "MATH        BACHELORS     19262   19262\n",
       "            DOCTORAL      19357   19357\n",
       "            MASTERS       19182   19182\n",
       "NONE        BACHELORS     19498   19498\n",
       "            DOCTORAL      19719   19719\n",
       "            HIGH_SCHOOL  236976  236976\n",
       "            MASTERS       19308   19308\n",
       "            NONE         236854  236854\n",
       "PHYSICS     BACHELORS     19307   19307\n",
       "            DOCTORAL      19417   19417\n",
       "            MASTERS       19686   19686"
      ]
     },
     "execution_count": 21,
     "metadata": {},
     "output_type": "execute_result"
    }
   ],
   "source": [
    "# show a grouping of data the cout of major and degree\n",
    "# notice the major of none with having a degree\n",
    "pd.set_option(\"display.max_rows\", 100)\n",
    "train_data.groupby(['major', 'degree'])['major', 'degree'].count()\n"
   ]
  },
  {
   "cell_type": "code",
   "execution_count": 22,
   "metadata": {
    "ExecuteTime": {
     "end_time": "2020-06-29T23:10:53.497057Z",
     "start_time": "2020-06-29T23:10:53.341132Z"
    }
   },
   "outputs": [
    {
     "data": {
      "text/plain": [
       "WEB          143206\n",
       "AUTO         142943\n",
       "FINANCE      142867\n",
       "EDUCATION    142819\n",
       "OIL          142771\n",
       "HEALTH       142755\n",
       "SERVICE      142639\n",
       "Name: industry, dtype: int64"
      ]
     },
     "execution_count": 22,
     "metadata": {},
     "output_type": "execute_result"
    }
   ],
   "source": [
    "# show the counts by industry\n",
    "train_data.industry.value_counts()"
   ]
  },
  {
   "cell_type": "markdown",
   "metadata": {},
   "source": [
    "### ---- 3 Clean the data ----"
   ]
  },
  {
   "cell_type": "code",
   "execution_count": 23,
   "metadata": {
    "ExecuteTime": {
     "end_time": "2020-06-29T23:10:53.992509Z",
     "start_time": "2020-06-29T23:10:53.502136Z"
    }
   },
   "outputs": [
    {
     "data": {
      "text/html": [
       "<div>\n",
       "<style scoped>\n",
       "    .dataframe tbody tr th:only-of-type {\n",
       "        vertical-align: middle;\n",
       "    }\n",
       "\n",
       "    .dataframe tbody tr th {\n",
       "        vertical-align: top;\n",
       "    }\n",
       "\n",
       "    .dataframe thead th {\n",
       "        text-align: right;\n",
       "    }\n",
       "</style>\n",
       "<table border=\"1\" class=\"dataframe\">\n",
       "  <thead>\n",
       "    <tr style=\"text-align: right;\">\n",
       "      <th></th>\n",
       "      <th>jobId</th>\n",
       "      <th>companyId</th>\n",
       "      <th>jobType</th>\n",
       "      <th>degree</th>\n",
       "      <th>major</th>\n",
       "      <th>industry</th>\n",
       "      <th>yearsExperience</th>\n",
       "      <th>milesFromMetropolis</th>\n",
       "      <th>salary</th>\n",
       "    </tr>\n",
       "  </thead>\n",
       "  <tbody>\n",
       "  </tbody>\n",
       "</table>\n",
       "</div>"
      ],
      "text/plain": [
       "Empty DataFrame\n",
       "Columns: [jobId, companyId, jobType, degree, major, industry, yearsExperience, milesFromMetropolis, salary]\n",
       "Index: []"
      ]
     },
     "execution_count": 23,
     "metadata": {},
     "output_type": "execute_result"
    }
   ],
   "source": [
    "# drop salary data less than or equal to zero\n",
    "train_data_clean = train_data.copy()\n",
    "zero_salary = train_data_clean.loc[train_data_clean['salary'] == 0].index\n",
    "train_data_clean.drop(zero_salary, inplace=True)\n",
    "\n",
    "# check to see that zero salary items are gone\n",
    "train_data_clean.loc[train_data_clean['salary'] == 0]\n",
    "\n"
   ]
  },
  {
   "cell_type": "code",
   "execution_count": 24,
   "metadata": {
    "ExecuteTime": {
     "end_time": "2020-06-29T23:10:54.527040Z",
     "start_time": "2020-06-29T23:10:53.996550Z"
    }
   },
   "outputs": [
    {
     "data": {
      "text/html": [
       "<div>\n",
       "<style scoped>\n",
       "    .dataframe tbody tr th:only-of-type {\n",
       "        vertical-align: middle;\n",
       "    }\n",
       "\n",
       "    .dataframe tbody tr th {\n",
       "        vertical-align: top;\n",
       "    }\n",
       "\n",
       "    .dataframe thead th {\n",
       "        text-align: right;\n",
       "    }\n",
       "</style>\n",
       "<table border=\"1\" class=\"dataframe\">\n",
       "  <thead>\n",
       "    <tr style=\"text-align: right;\">\n",
       "      <th></th>\n",
       "      <th>jobId</th>\n",
       "      <th>companyId</th>\n",
       "      <th>jobType</th>\n",
       "      <th>degree</th>\n",
       "      <th>major</th>\n",
       "      <th>industry</th>\n",
       "      <th>yearsExperience</th>\n",
       "      <th>milesFromMetropolis</th>\n",
       "      <th>salary</th>\n",
       "    </tr>\n",
       "  </thead>\n",
       "  <tbody>\n",
       "    <tr>\n",
       "      <th>83</th>\n",
       "      <td>JOB1362684407770</td>\n",
       "      <td>COMP17</td>\n",
       "      <td>MANAGER</td>\n",
       "      <td>NONE</td>\n",
       "      <td>NONE</td>\n",
       "      <td>SERVICE</td>\n",
       "      <td>8.0</td>\n",
       "      <td>15.0</td>\n",
       "      <td>111.0</td>\n",
       "    </tr>\n",
       "    <tr>\n",
       "      <th>122</th>\n",
       "      <td>JOB1362684407809</td>\n",
       "      <td>COMP46</td>\n",
       "      <td>JANITOR</td>\n",
       "      <td>NONE</td>\n",
       "      <td>NONE</td>\n",
       "      <td>AUTO</td>\n",
       "      <td>1.0</td>\n",
       "      <td>21.0</td>\n",
       "      <td>55.0</td>\n",
       "    </tr>\n",
       "    <tr>\n",
       "      <th>216</th>\n",
       "      <td>JOB1362684407903</td>\n",
       "      <td>COMP36</td>\n",
       "      <td>JANITOR</td>\n",
       "      <td>NONE</td>\n",
       "      <td>NONE</td>\n",
       "      <td>OIL</td>\n",
       "      <td>16.0</td>\n",
       "      <td>87.0</td>\n",
       "      <td>72.0</td>\n",
       "    </tr>\n",
       "    <tr>\n",
       "      <th>294</th>\n",
       "      <td>JOB1362684407981</td>\n",
       "      <td>COMP37</td>\n",
       "      <td>CEO</td>\n",
       "      <td>DOCTORAL</td>\n",
       "      <td>CHEMISTRY</td>\n",
       "      <td>AUTO</td>\n",
       "      <td>11.0</td>\n",
       "      <td>60.0</td>\n",
       "      <td>135.0</td>\n",
       "    </tr>\n",
       "    <tr>\n",
       "      <th>302</th>\n",
       "      <td>JOB1362684407989</td>\n",
       "      <td>COMP1</td>\n",
       "      <td>JANITOR</td>\n",
       "      <td>NONE</td>\n",
       "      <td>NONE</td>\n",
       "      <td>HEALTH</td>\n",
       "      <td>8.0</td>\n",
       "      <td>38.0</td>\n",
       "      <td>73.0</td>\n",
       "    </tr>\n",
       "    <tr>\n",
       "      <th>...</th>\n",
       "      <td>...</td>\n",
       "      <td>...</td>\n",
       "      <td>...</td>\n",
       "      <td>...</td>\n",
       "      <td>...</td>\n",
       "      <td>...</td>\n",
       "      <td>...</td>\n",
       "      <td>...</td>\n",
       "      <td>...</td>\n",
       "    </tr>\n",
       "    <tr>\n",
       "      <th>978443</th>\n",
       "      <td>JOB1362685386130</td>\n",
       "      <td>COMP3</td>\n",
       "      <td>JANITOR</td>\n",
       "      <td>HIGH_SCHOOL</td>\n",
       "      <td>NONE</td>\n",
       "      <td>AUTO</td>\n",
       "      <td>18.0</td>\n",
       "      <td>14.0</td>\n",
       "      <td>78.0</td>\n",
       "    </tr>\n",
       "    <tr>\n",
       "      <th>982142</th>\n",
       "      <td>JOB1362685389829</td>\n",
       "      <td>COMP38</td>\n",
       "      <td>JANITOR</td>\n",
       "      <td>NONE</td>\n",
       "      <td>NONE</td>\n",
       "      <td>HEALTH</td>\n",
       "      <td>14.0</td>\n",
       "      <td>80.0</td>\n",
       "      <td>48.0</td>\n",
       "    </tr>\n",
       "    <tr>\n",
       "      <th>987233</th>\n",
       "      <td>JOB1362685394920</td>\n",
       "      <td>COMP26</td>\n",
       "      <td>CTO</td>\n",
       "      <td>NONE</td>\n",
       "      <td>NONE</td>\n",
       "      <td>WEB</td>\n",
       "      <td>6.0</td>\n",
       "      <td>77.0</td>\n",
       "      <td>91.0</td>\n",
       "    </tr>\n",
       "    <tr>\n",
       "      <th>990353</th>\n",
       "      <td>JOB1362685398040</td>\n",
       "      <td>COMP2</td>\n",
       "      <td>VICE_PRESIDENT</td>\n",
       "      <td>NONE</td>\n",
       "      <td>NONE</td>\n",
       "      <td>WEB</td>\n",
       "      <td>11.0</td>\n",
       "      <td>87.0</td>\n",
       "      <td>101.0</td>\n",
       "    </tr>\n",
       "    <tr>\n",
       "      <th>999825</th>\n",
       "      <td>JOB1362685407512</td>\n",
       "      <td>COMP40</td>\n",
       "      <td>SENIOR</td>\n",
       "      <td>NONE</td>\n",
       "      <td>NONE</td>\n",
       "      <td>OIL</td>\n",
       "      <td>6.0</td>\n",
       "      <td>24.0</td>\n",
       "      <td>86.0</td>\n",
       "    </tr>\n",
       "  </tbody>\n",
       "</table>\n",
       "<p>8001 rows × 9 columns</p>\n",
       "</div>"
      ],
      "text/plain": [
       "                   jobId companyId         jobType       degree      major  \\\n",
       "83      JOB1362684407770    COMP17         MANAGER         NONE       NONE   \n",
       "122     JOB1362684407809    COMP46         JANITOR         NONE       NONE   \n",
       "216     JOB1362684407903    COMP36         JANITOR         NONE       NONE   \n",
       "294     JOB1362684407981    COMP37             CEO     DOCTORAL  CHEMISTRY   \n",
       "302     JOB1362684407989     COMP1         JANITOR         NONE       NONE   \n",
       "...                  ...       ...             ...          ...        ...   \n",
       "978443  JOB1362685386130     COMP3         JANITOR  HIGH_SCHOOL       NONE   \n",
       "982142  JOB1362685389829    COMP38         JANITOR         NONE       NONE   \n",
       "987233  JOB1362685394920    COMP26             CTO         NONE       NONE   \n",
       "990353  JOB1362685398040     COMP2  VICE_PRESIDENT         NONE       NONE   \n",
       "999825  JOB1362685407512    COMP40          SENIOR         NONE       NONE   \n",
       "\n",
       "       industry  yearsExperience  milesFromMetropolis  salary  \n",
       "83      SERVICE              8.0                 15.0   111.0  \n",
       "122        AUTO              1.0                 21.0    55.0  \n",
       "216         OIL             16.0                 87.0    72.0  \n",
       "294        AUTO             11.0                 60.0   135.0  \n",
       "302      HEALTH              8.0                 38.0    73.0  \n",
       "...         ...              ...                  ...     ...  \n",
       "978443     AUTO             18.0                 14.0    78.0  \n",
       "982142   HEALTH             14.0                 80.0    48.0  \n",
       "987233      WEB              6.0                 77.0    91.0  \n",
       "990353      WEB             11.0                 87.0   101.0  \n",
       "999825      OIL              6.0                 24.0    86.0  \n",
       "\n",
       "[8001 rows x 9 columns]"
      ]
     },
     "execution_count": 24,
     "metadata": {},
     "output_type": "execute_result"
    }
   ],
   "source": [
    "# put the columns to be analyzed in a list\n",
    "columns = ['companyId', 'jobType', 'degree', 'major', \n",
    "           'industry', 'yearsExperience', 'milesFromMetropolis']\n",
    "\n",
    "# show duplicate values by the list of columns\n",
    "# if the information is the same for all columns it will show as a duplicate\n",
    "duplicate = train_data_clean[train_data_clean.duplicated(subset=columns, keep='last') == True]\n",
    "duplicate\n"
   ]
  },
  {
   "cell_type": "code",
   "execution_count": 25,
   "metadata": {
    "ExecuteTime": {
     "end_time": "2020-06-29T23:10:54.881576Z",
     "start_time": "2020-06-29T23:10:54.529832Z"
    }
   },
   "outputs": [
    {
     "data": {
      "text/html": [
       "<div>\n",
       "<style scoped>\n",
       "    .dataframe tbody tr th:only-of-type {\n",
       "        vertical-align: middle;\n",
       "    }\n",
       "\n",
       "    .dataframe tbody tr th {\n",
       "        vertical-align: top;\n",
       "    }\n",
       "\n",
       "    .dataframe thead th {\n",
       "        text-align: right;\n",
       "    }\n",
       "</style>\n",
       "<table border=\"1\" class=\"dataframe\">\n",
       "  <thead>\n",
       "    <tr style=\"text-align: right;\">\n",
       "      <th></th>\n",
       "      <th>jobId</th>\n",
       "      <th>companyId</th>\n",
       "      <th>jobType</th>\n",
       "      <th>degree</th>\n",
       "      <th>major</th>\n",
       "      <th>industry</th>\n",
       "      <th>yearsExperience</th>\n",
       "      <th>milesFromMetropolis</th>\n",
       "      <th>salary</th>\n",
       "    </tr>\n",
       "  </thead>\n",
       "  <tbody>\n",
       "    <tr>\n",
       "      <th>83</th>\n",
       "      <td>JOB1362684407770</td>\n",
       "      <td>COMP17</td>\n",
       "      <td>MANAGER</td>\n",
       "      <td>NONE</td>\n",
       "      <td>NONE</td>\n",
       "      <td>SERVICE</td>\n",
       "      <td>8.0</td>\n",
       "      <td>15.0</td>\n",
       "      <td>111.0</td>\n",
       "    </tr>\n",
       "    <tr>\n",
       "      <th>515491</th>\n",
       "      <td>JOB1362684923178</td>\n",
       "      <td>COMP17</td>\n",
       "      <td>MANAGER</td>\n",
       "      <td>NONE</td>\n",
       "      <td>NONE</td>\n",
       "      <td>SERVICE</td>\n",
       "      <td>8.0</td>\n",
       "      <td>15.0</td>\n",
       "      <td>80.0</td>\n",
       "    </tr>\n",
       "  </tbody>\n",
       "</table>\n",
       "</div>"
      ],
      "text/plain": [
       "                   jobId companyId  jobType degree major industry  \\\n",
       "83      JOB1362684407770    COMP17  MANAGER   NONE  NONE  SERVICE   \n",
       "515491  JOB1362684923178    COMP17  MANAGER   NONE  NONE  SERVICE   \n",
       "\n",
       "        yearsExperience  milesFromMetropolis  salary  \n",
       "83                  8.0                 15.0   111.0  \n",
       "515491              8.0                 15.0    80.0  "
      ]
     },
     "execution_count": 25,
     "metadata": {},
     "output_type": "execute_result"
    }
   ],
   "source": [
    "# show a few examples of duplicate data\n",
    "train_data_clean.loc[(train_data_clean['companyId'] == 'COMP17') & (train_data_clean['degree'] == 'NONE') &\n",
    "                   (train_data_clean['yearsExperience'] == 8) & (train_data_clean['milesFromMetropolis'] == 15) &\n",
    "                   (train_data_clean['industry'] == 'SERVICE')]\n",
    "                   "
   ]
  },
  {
   "cell_type": "code",
   "execution_count": 26,
   "metadata": {
    "ExecuteTime": {
     "end_time": "2020-06-29T23:10:55.584380Z",
     "start_time": "2020-06-29T23:10:54.884246Z"
    }
   },
   "outputs": [],
   "source": [
    "# drop duplicates from the dataframe based on the column\n",
    "# make sure to keep the first rwo\n",
    "train_data_clean.drop_duplicates(subset=columns, keep='first', inplace=True)"
   ]
  },
  {
   "cell_type": "code",
   "execution_count": 27,
   "metadata": {
    "ExecuteTime": {
     "end_time": "2020-06-29T23:10:56.238447Z",
     "start_time": "2020-06-29T23:10:55.588435Z"
    }
   },
   "outputs": [
    {
     "data": {
      "text/html": [
       "<div>\n",
       "<style scoped>\n",
       "    .dataframe tbody tr th:only-of-type {\n",
       "        vertical-align: middle;\n",
       "    }\n",
       "\n",
       "    .dataframe tbody tr th {\n",
       "        vertical-align: top;\n",
       "    }\n",
       "\n",
       "    .dataframe thead th {\n",
       "        text-align: right;\n",
       "    }\n",
       "</style>\n",
       "<table border=\"1\" class=\"dataframe\">\n",
       "  <thead>\n",
       "    <tr style=\"text-align: right;\">\n",
       "      <th></th>\n",
       "      <th>jobId</th>\n",
       "      <th>companyId</th>\n",
       "      <th>jobType</th>\n",
       "      <th>degree</th>\n",
       "      <th>major</th>\n",
       "      <th>industry</th>\n",
       "      <th>yearsExperience</th>\n",
       "      <th>milesFromMetropolis</th>\n",
       "      <th>salary</th>\n",
       "    </tr>\n",
       "  </thead>\n",
       "  <tbody>\n",
       "  </tbody>\n",
       "</table>\n",
       "</div>"
      ],
      "text/plain": [
       "Empty DataFrame\n",
       "Columns: [jobId, companyId, jobType, degree, major, industry, yearsExperience, milesFromMetropolis, salary]\n",
       "Index: []"
      ]
     },
     "execution_count": 27,
     "metadata": {},
     "output_type": "execute_result"
    }
   ],
   "source": [
    "# make sure that the data is gone\n",
    "duplicate = train_data_clean[train_data_clean.duplicated(subset=columns, keep='last') == True]\n",
    "duplicate"
   ]
  },
  {
   "cell_type": "markdown",
   "metadata": {},
   "source": [
    "### ---- 4 Explore the data (EDA) ----"
   ]
  },
  {
   "cell_type": "code",
   "execution_count": 28,
   "metadata": {
    "ExecuteTime": {
     "end_time": "2020-06-29T23:10:56.255047Z",
     "start_time": "2020-06-29T23:10:56.247151Z"
    }
   },
   "outputs": [],
   "source": [
    "#summarize each feature variable\n",
    "#summarize the target variable\n",
    "#look for correlation between each feature and the target\n",
    "#look for correlation between features\n",
    "\n",
    "produceProfile = 'N'\n",
    "\n",
    "if produceProfile == 'Y':\n",
    "    profile = ProfileReport(train_data_clean, title=\"Salary Prediction Profile\", minimal=True)\n",
    "    profile.to_file(os.path.join('../','visualizations','salary_prediction_feature_overview.html'))\n",
    "    profile"
   ]
  },
  {
   "cell_type": "code",
   "execution_count": 29,
   "metadata": {
    "ExecuteTime": {
     "end_time": "2020-06-29T23:10:56.378515Z",
     "start_time": "2020-06-29T23:10:56.261723Z"
    }
   },
   "outputs": [
    {
     "data": {
      "text/html": [
       "\n",
       "        <iframe\n",
       "            width=\"950\"\n",
       "            height=\"400\"\n",
       "            src=\"../visualizations/salary_prediction_feature_overview.html\"\n",
       "            frameborder=\"0\"\n",
       "            allowfullscreen\n",
       "        ></iframe>\n",
       "        "
      ],
      "text/plain": [
       "<IPython.lib.display.IFrame at 0x7f6d40d59450>"
      ]
     },
     "execution_count": 29,
     "metadata": {},
     "output_type": "execute_result"
    }
   ],
   "source": [
    "IFrame(src=os.path.join('../','visualizations','salary_prediction_feature_overview.html'), width=950, height=400)"
   ]
  },
  {
   "cell_type": "code",
   "execution_count": 30,
   "metadata": {
    "ExecuteTime": {
     "end_time": "2020-06-29T23:10:56.694147Z",
     "start_time": "2020-06-29T23:10:56.383325Z"
    }
   },
   "outputs": [
    {
     "data": {
      "text/html": [
       "<div>\n",
       "<style scoped>\n",
       "    .dataframe tbody tr th:only-of-type {\n",
       "        vertical-align: middle;\n",
       "    }\n",
       "\n",
       "    .dataframe tbody tr th {\n",
       "        vertical-align: top;\n",
       "    }\n",
       "\n",
       "    .dataframe thead th {\n",
       "        text-align: right;\n",
       "    }\n",
       "</style>\n",
       "<table border=\"1\" class=\"dataframe\">\n",
       "  <thead>\n",
       "    <tr style=\"text-align: right;\">\n",
       "      <th></th>\n",
       "      <th>salary</th>\n",
       "      <th>companyId</th>\n",
       "      <th>jobType</th>\n",
       "      <th>degree</th>\n",
       "      <th>major</th>\n",
       "      <th>industry</th>\n",
       "      <th>yearsExperience</th>\n",
       "      <th>milesFromMetropolis</th>\n",
       "    </tr>\n",
       "  </thead>\n",
       "  <tbody>\n",
       "    <tr>\n",
       "      <th>0</th>\n",
       "      <td>130.0</td>\n",
       "      <td>COMP37</td>\n",
       "      <td>CFO</td>\n",
       "      <td>MASTERS</td>\n",
       "      <td>MATH</td>\n",
       "      <td>HEALTH</td>\n",
       "      <td>10.0</td>\n",
       "      <td>83.0</td>\n",
       "    </tr>\n",
       "    <tr>\n",
       "      <th>1</th>\n",
       "      <td>101.0</td>\n",
       "      <td>COMP19</td>\n",
       "      <td>CEO</td>\n",
       "      <td>HIGH_SCHOOL</td>\n",
       "      <td>NONE</td>\n",
       "      <td>WEB</td>\n",
       "      <td>3.0</td>\n",
       "      <td>73.0</td>\n",
       "    </tr>\n",
       "    <tr>\n",
       "      <th>2</th>\n",
       "      <td>137.0</td>\n",
       "      <td>COMP52</td>\n",
       "      <td>VICE_PRESIDENT</td>\n",
       "      <td>DOCTORAL</td>\n",
       "      <td>PHYSICS</td>\n",
       "      <td>HEALTH</td>\n",
       "      <td>10.0</td>\n",
       "      <td>38.0</td>\n",
       "    </tr>\n",
       "    <tr>\n",
       "      <th>3</th>\n",
       "      <td>142.0</td>\n",
       "      <td>COMP38</td>\n",
       "      <td>MANAGER</td>\n",
       "      <td>DOCTORAL</td>\n",
       "      <td>CHEMISTRY</td>\n",
       "      <td>AUTO</td>\n",
       "      <td>8.0</td>\n",
       "      <td>17.0</td>\n",
       "    </tr>\n",
       "    <tr>\n",
       "      <th>4</th>\n",
       "      <td>163.0</td>\n",
       "      <td>COMP7</td>\n",
       "      <td>VICE_PRESIDENT</td>\n",
       "      <td>BACHELORS</td>\n",
       "      <td>PHYSICS</td>\n",
       "      <td>FINANCE</td>\n",
       "      <td>8.0</td>\n",
       "      <td>16.0</td>\n",
       "    </tr>\n",
       "  </tbody>\n",
       "</table>\n",
       "</div>"
      ],
      "text/plain": [
       "   salary companyId         jobType       degree      major industry  \\\n",
       "0   130.0    COMP37             CFO      MASTERS       MATH   HEALTH   \n",
       "1   101.0    COMP19             CEO  HIGH_SCHOOL       NONE      WEB   \n",
       "2   137.0    COMP52  VICE_PRESIDENT     DOCTORAL    PHYSICS   HEALTH   \n",
       "3   142.0    COMP38         MANAGER     DOCTORAL  CHEMISTRY     AUTO   \n",
       "4   163.0     COMP7  VICE_PRESIDENT    BACHELORS    PHYSICS  FINANCE   \n",
       "\n",
       "   yearsExperience  milesFromMetropolis  \n",
       "0             10.0                 83.0  \n",
       "1              3.0                 73.0  \n",
       "2             10.0                 38.0  \n",
       "3              8.0                 17.0  \n",
       "4              8.0                 16.0  "
      ]
     },
     "execution_count": 30,
     "metadata": {},
     "output_type": "execute_result"
    }
   ],
   "source": [
    "# re-order data frame to prepare for correlation matric\n",
    "train_data_clean = train_data_clean[['salary',\n",
    " 'companyId',\n",
    " 'jobType',\n",
    " 'degree',\n",
    " 'major',\n",
    " 'industry',\n",
    " 'yearsExperience',\n",
    " 'milesFromMetropolis',\n",
    "]]\n",
    "\n",
    "# verify re-ordering\n",
    "train_data_clean.head()"
   ]
  },
  {
   "cell_type": "code",
   "execution_count": 31,
   "metadata": {
    "ExecuteTime": {
     "end_time": "2020-06-29T23:10:56.795353Z",
     "start_time": "2020-06-29T23:10:56.698783Z"
    }
   },
   "outputs": [
    {
     "data": {
      "text/html": [
       "<div>\n",
       "<style scoped>\n",
       "    .dataframe tbody tr th:only-of-type {\n",
       "        vertical-align: middle;\n",
       "    }\n",
       "\n",
       "    .dataframe tbody tr th {\n",
       "        vertical-align: top;\n",
       "    }\n",
       "\n",
       "    .dataframe thead th {\n",
       "        text-align: right;\n",
       "    }\n",
       "</style>\n",
       "<table border=\"1\" class=\"dataframe\">\n",
       "  <thead>\n",
       "    <tr style=\"text-align: right;\">\n",
       "      <th></th>\n",
       "      <th>salary</th>\n",
       "      <th>yearsExperience</th>\n",
       "      <th>milesFromMetropolis</th>\n",
       "    </tr>\n",
       "  </thead>\n",
       "  <tbody>\n",
       "    <tr>\n",
       "      <th>salary</th>\n",
       "      <td>1.000000</td>\n",
       "      <td>0.375297</td>\n",
       "      <td>-0.297985</td>\n",
       "    </tr>\n",
       "    <tr>\n",
       "      <th>yearsExperience</th>\n",
       "      <td>0.375297</td>\n",
       "      <td>1.000000</td>\n",
       "      <td>0.000614</td>\n",
       "    </tr>\n",
       "    <tr>\n",
       "      <th>milesFromMetropolis</th>\n",
       "      <td>-0.297985</td>\n",
       "      <td>0.000614</td>\n",
       "      <td>1.000000</td>\n",
       "    </tr>\n",
       "  </tbody>\n",
       "</table>\n",
       "</div>"
      ],
      "text/plain": [
       "                       salary  yearsExperience  milesFromMetropolis\n",
       "salary               1.000000         0.375297            -0.297985\n",
       "yearsExperience      0.375297         1.000000             0.000614\n",
       "milesFromMetropolis -0.297985         0.000614             1.000000"
      ]
     },
     "execution_count": 31,
     "metadata": {},
     "output_type": "execute_result"
    }
   ],
   "source": [
    "# show numeric correlation matric\n",
    "correlation_matrix = train_data_clean.corr()\n",
    "correlation_matrix"
   ]
  },
  {
   "cell_type": "code",
   "execution_count": 32,
   "metadata": {
    "ExecuteTime": {
     "end_time": "2020-06-29T23:10:57.465065Z",
     "start_time": "2020-06-29T23:10:56.803537Z"
    }
   },
   "outputs": [
    {
     "data": {
      "image/png": "[encoded data removed]",
      "text/plain": [
       "<Figure size 576x396 with 2 Axes>"
      ]
     },
     "metadata": {},
     "output_type": "display_data"
    }
   ],
   "source": [
    "sns.heatmap(correlation_matrix, annot=True)\n",
    "plt.show()"
   ]
  },
  {
   "cell_type": "code",
   "execution_count": 33,
   "metadata": {
    "ExecuteTime": {
     "end_time": "2020-06-29T23:11:12.517329Z",
     "start_time": "2020-06-29T23:10:57.468755Z"
    }
   },
   "outputs": [
    {
     "data": {
      "image/png": "[encoded data removed]",
      "text/plain": [
       "<Figure size 1440x864 with 1 Axes>"
      ]
     },
     "metadata": {},
     "output_type": "display_data"
    }
   ],
   "source": [
    "plt.figure(figsize=(20,12))\n",
    "col = 'salary'\n",
    "sns.distplot(train_data_clean[col], bins=10, kde=False, rug=True);"
   ]
  },
  {
   "cell_type": "code",
   "execution_count": 34,
   "metadata": {
    "ExecuteTime": {
     "end_time": "2020-06-29T23:11:13.296852Z",
     "start_time": "2020-06-29T23:11:12.520720Z"
    }
   },
   "outputs": [
    {
     "data": {
      "image/png": "[encoded data removed]",
      "text/plain": [
       "<Figure size 1080x432 with 1 Axes>"
      ]
     },
     "metadata": {},
     "output_type": "display_data"
    }
   ],
   "source": [
    "# Plot Fare Price Distribution\n",
    "plt.subplot(1, 2, 1)\n",
    "(train_data_clean['salary']).plot.hist(bins=15, figsize=(15, 6), edgecolor = 'white')\n",
    "plt.xlabel('Salary', fontsize=12)\n",
    "plt.title('Original Salary (not transformed)')\n",
    "plt.savefig(os.path.join('../','visualizations','SalaryHistogram.png'))"
   ]
  },
  {
   "cell_type": "code",
   "execution_count": 35,
   "metadata": {
    "ExecuteTime": {
     "end_time": "2020-06-29T23:11:14.122958Z",
     "start_time": "2020-06-29T23:11:13.299486Z"
    }
   },
   "outputs": [
    {
     "data": {
      "image/png": "[encoded data removed]",
      "text/plain": [
       "<Figure size 1080x432 with 1 Axes>"
      ]
     },
     "metadata": {},
     "output_type": "display_data"
    }
   ],
   "source": [
    "# Plot Fare Price Distribution\n",
    "plt.subplot(1, 2, 1)\n",
    "(np.log1p(train_data_clean['salary'])).plot.hist(bins=15, figsize=(15, 6), edgecolor = 'white')\n",
    "plt.xlabel('Salary', fontsize=12)\n",
    "plt.title('Salary Log')\n",
    "plt.savefig(os.path.join('../','visualizations','SalaryLogHistogram.png'))"
   ]
  },
  {
   "cell_type": "code",
   "execution_count": 36,
   "metadata": {
    "ExecuteTime": {
     "end_time": "2020-06-29T23:11:43.171519Z",
     "start_time": "2020-06-29T23:11:14.126837Z"
    }
   },
   "outputs": [
    {
     "data": {
      "image/png": "[encoded data removed]",
      "text/plain": [
       "<Figure size 1440x864 with 1 Axes>"
      ]
     },
     "metadata": {},
     "output_type": "display_data"
    }
   ],
   "source": [
    "plt.figure(figsize=(20,12))\n",
    "col = 'milesFromMetropolis'\n",
    "sns.distplot(train_data_clean[col], bins=10, kde=False, rug=True);\n",
    "plt.savefig(os.path.join('../','visualizations',f\"{col}_Histogram.png\"))"
   ]
  },
  {
   "cell_type": "code",
   "execution_count": 37,
   "metadata": {
    "ExecuteTime": {
     "end_time": "2020-06-29T23:12:08.172929Z",
     "start_time": "2020-06-29T23:11:43.177235Z"
    }
   },
   "outputs": [
    {
     "data": {
      "image/png": "[encoded data removed]",
      "text/plain": [
       "<Figure size 1440x864 with 1 Axes>"
      ]
     },
     "metadata": {},
     "output_type": "display_data"
    }
   ],
   "source": [
    "plt.figure(figsize=(20,12))\n",
    "col = 'yearsExperience'\n",
    "sns.distplot(train_data_clean[col], bins=10, kde=False, rug=True);\n",
    "plt.savefig(os.path.join('../','visualizations',f\"{col}_Histogram.png\"))"
   ]
  },
  {
   "cell_type": "code",
   "execution_count": 38,
   "metadata": {
    "ExecuteTime": {
     "end_time": "2020-06-29T23:12:14.315865Z",
     "start_time": "2020-06-29T23:12:08.175634Z"
    }
   },
   "outputs": [
    {
     "data": {
      "image/png": "[encoded data removed]",
      "text/plain": [
       "<Figure size 1440x864 with 1 Axes>"
      ]
     },
     "metadata": {},
     "output_type": "display_data"
    }
   ],
   "source": [
    "plt.figure(figsize=(20,12))\n",
    "col = 'companyId'\n",
    "chart = sns.countplot(train_data_clean[col])\n",
    "chart.set_xticklabels(chart.get_xticklabels(), rotation=45);\n",
    "plt.savefig(os.path.join('../','visualizations',f\"{col}_Histogram.png\"))"
   ]
  },
  {
   "cell_type": "code",
   "execution_count": 39,
   "metadata": {
    "ExecuteTime": {
     "end_time": "2020-06-29T23:12:15.289455Z",
     "start_time": "2020-06-29T23:12:14.318809Z"
    }
   },
   "outputs": [
    {
     "data": {
      "image/png": "[encoded data removed]",
      "text/plain": [
       "<Figure size 1440x864 with 1 Axes>"
      ]
     },
     "metadata": {},
     "output_type": "display_data"
    }
   ],
   "source": [
    "plt.figure(figsize=(20,12))\n",
    "col = 'jobType'\n",
    "sns.countplot(train_data_clean[col]);\n",
    "plt.savefig(os.path.join('../','visualizations',f\"{col}_Histogram.png\"))"
   ]
  },
  {
   "cell_type": "code",
   "execution_count": 40,
   "metadata": {
    "ExecuteTime": {
     "end_time": "2020-06-29T23:12:16.256628Z",
     "start_time": "2020-06-29T23:12:15.292963Z"
    }
   },
   "outputs": [
    {
     "data": {
      "image/png": "[encoded data removed]",
      "text/plain": [
       "<Figure size 1440x864 with 1 Axes>"
      ]
     },
     "metadata": {},
     "output_type": "display_data"
    }
   ],
   "source": [
    "plt.figure(figsize=(20,12))\n",
    "col = 'degree'\n",
    "sns.countplot(train_data_clean[col]);\n",
    "plt.savefig(os.path.join('../','visualizations',f\"{col}_Histogram.png\"))"
   ]
  },
  {
   "cell_type": "code",
   "execution_count": 41,
   "metadata": {
    "ExecuteTime": {
     "end_time": "2020-06-29T23:12:17.331354Z",
     "start_time": "2020-06-29T23:12:16.259423Z"
    }
   },
   "outputs": [
    {
     "data": {
      "image/png": "[encoded data removed]",
      "text/plain": [
       "<Figure size 1440x864 with 1 Axes>"
      ]
     },
     "metadata": {},
     "output_type": "display_data"
    }
   ],
   "source": [
    "plt.figure(figsize=(20,12))\n",
    "col = 'major'\n",
    "sns.countplot(train_data_clean[col]);\n",
    "plt.savefig(os.path.join('../','visualizations',f\"{col}_Histogram.png\"))"
   ]
  },
  {
   "cell_type": "code",
   "execution_count": 42,
   "metadata": {
    "ExecuteTime": {
     "end_time": "2020-06-29T23:12:18.482400Z",
     "start_time": "2020-06-29T23:12:17.335142Z"
    }
   },
   "outputs": [
    {
     "data": {
      "image/png": "[encoded data removed]",
      "text/plain": [
       "<Figure size 1440x864 with 1 Axes>"
      ]
     },
     "metadata": {},
     "output_type": "display_data"
    }
   ],
   "source": [
    "plt.figure(figsize=(20,12))\n",
    "col = 'industry'\n",
    "sns.countplot(train_data_clean[col]);\n",
    "plt.savefig(os.path.join('../','visualizations',f\"{col}_Histogram.png\"))"
   ]
  },
  {
   "cell_type": "code",
   "execution_count": 43,
   "metadata": {
    "ExecuteTime": {
     "end_time": "2020-06-29T23:12:19.404149Z",
     "start_time": "2020-06-29T23:12:18.485616Z"
    }
   },
   "outputs": [
    {
     "data": {
      "image/png": "[encoded data removed]",
      "text/plain": [
       "<Figure size 576x396 with 1 Axes>"
      ]
     },
     "metadata": {},
     "output_type": "display_data"
    }
   ],
   "source": [
    "salary_info = sns.boxplot(x=\"jobType\", y=\"salary\", data=train_data_clean)\n",
    "salary_info.set_xticklabels(salary_info.get_xticklabels(), rotation=45);\n",
    "plt.savefig(os.path.join('../','visualizations','JobTypeVersusSalaryBoxPlot.png'))"
   ]
  },
  {
   "cell_type": "code",
   "execution_count": 44,
   "metadata": {
    "ExecuteTime": {
     "end_time": "2020-06-29T23:12:20.188896Z",
     "start_time": "2020-06-29T23:12:19.406842Z"
    }
   },
   "outputs": [
    {
     "data": {
      "image/png": "[encoded data removed]",
      "text/plain": [
       "<Figure size 576x396 with 1 Axes>"
      ]
     },
     "metadata": {},
     "output_type": "display_data"
    }
   ],
   "source": [
    "degree_info = sns.boxplot(x=\"degree\", y=\"salary\", data=train_data_clean)\n",
    "degree_info.set_xticklabels(degree_info.get_xticklabels(), rotation=45);\n",
    "plt.savefig(os.path.join('../','visualizations','DegreeVersusSalaryBoxPlot.png'))"
   ]
  },
  {
   "cell_type": "code",
   "execution_count": 45,
   "metadata": {
    "ExecuteTime": {
     "end_time": "2020-06-29T23:12:20.259737Z",
     "start_time": "2020-06-29T23:12:20.192768Z"
    }
   },
   "outputs": [
    {
     "data": {
      "text/html": [
       "<div>\n",
       "<style scoped>\n",
       "    .dataframe tbody tr th:only-of-type {\n",
       "        vertical-align: middle;\n",
       "    }\n",
       "\n",
       "    .dataframe tbody tr th {\n",
       "        vertical-align: top;\n",
       "    }\n",
       "\n",
       "    .dataframe thead th {\n",
       "        text-align: right;\n",
       "    }\n",
       "</style>\n",
       "<table border=\"1\" class=\"dataframe\">\n",
       "  <thead>\n",
       "    <tr style=\"text-align: right;\">\n",
       "      <th></th>\n",
       "      <th>salary</th>\n",
       "      <th>companyId</th>\n",
       "      <th>jobType</th>\n",
       "      <th>degree</th>\n",
       "      <th>major</th>\n",
       "      <th>industry</th>\n",
       "      <th>yearsExperience</th>\n",
       "      <th>milesFromMetropolis</th>\n",
       "    </tr>\n",
       "  </thead>\n",
       "  <tbody>\n",
       "    <tr>\n",
       "      <th>0</th>\n",
       "      <td>130.0</td>\n",
       "      <td>COMP37</td>\n",
       "      <td>CFO</td>\n",
       "      <td>MASTERS</td>\n",
       "      <td>MATH</td>\n",
       "      <td>HEALTH</td>\n",
       "      <td>10.0</td>\n",
       "      <td>83.0</td>\n",
       "    </tr>\n",
       "    <tr>\n",
       "      <th>1</th>\n",
       "      <td>101.0</td>\n",
       "      <td>COMP19</td>\n",
       "      <td>CEO</td>\n",
       "      <td>HIGH_SCHOOL</td>\n",
       "      <td>NONE</td>\n",
       "      <td>WEB</td>\n",
       "      <td>3.0</td>\n",
       "      <td>73.0</td>\n",
       "    </tr>\n",
       "    <tr>\n",
       "      <th>2</th>\n",
       "      <td>137.0</td>\n",
       "      <td>COMP52</td>\n",
       "      <td>VICE_PRESIDENT</td>\n",
       "      <td>DOCTORAL</td>\n",
       "      <td>PHYSICS</td>\n",
       "      <td>HEALTH</td>\n",
       "      <td>10.0</td>\n",
       "      <td>38.0</td>\n",
       "    </tr>\n",
       "    <tr>\n",
       "      <th>3</th>\n",
       "      <td>142.0</td>\n",
       "      <td>COMP38</td>\n",
       "      <td>MANAGER</td>\n",
       "      <td>DOCTORAL</td>\n",
       "      <td>CHEMISTRY</td>\n",
       "      <td>AUTO</td>\n",
       "      <td>8.0</td>\n",
       "      <td>17.0</td>\n",
       "    </tr>\n",
       "    <tr>\n",
       "      <th>4</th>\n",
       "      <td>163.0</td>\n",
       "      <td>COMP7</td>\n",
       "      <td>VICE_PRESIDENT</td>\n",
       "      <td>BACHELORS</td>\n",
       "      <td>PHYSICS</td>\n",
       "      <td>FINANCE</td>\n",
       "      <td>8.0</td>\n",
       "      <td>16.0</td>\n",
       "    </tr>\n",
       "  </tbody>\n",
       "</table>\n",
       "</div>"
      ],
      "text/plain": [
       "   salary companyId         jobType       degree      major industry  \\\n",
       "0   130.0    COMP37             CFO      MASTERS       MATH   HEALTH   \n",
       "1   101.0    COMP19             CEO  HIGH_SCHOOL       NONE      WEB   \n",
       "2   137.0    COMP52  VICE_PRESIDENT     DOCTORAL    PHYSICS   HEALTH   \n",
       "3   142.0    COMP38         MANAGER     DOCTORAL  CHEMISTRY     AUTO   \n",
       "4   163.0     COMP7  VICE_PRESIDENT    BACHELORS    PHYSICS  FINANCE   \n",
       "\n",
       "   yearsExperience  milesFromMetropolis  \n",
       "0             10.0                 83.0  \n",
       "1              3.0                 73.0  \n",
       "2             10.0                 38.0  \n",
       "3              8.0                 17.0  \n",
       "4              8.0                 16.0  "
      ]
     },
     "execution_count": 45,
     "metadata": {},
     "output_type": "execute_result"
    }
   ],
   "source": [
    "train_data_clean.head()"
   ]
  },
  {
   "cell_type": "markdown",
   "metadata": {},
   "source": [
    "### ---- 5 Establish a baseline ----"
   ]
  },
  {
   "cell_type": "code",
   "execution_count": 46,
   "metadata": {
    "ExecuteTime": {
     "end_time": "2020-06-29T23:12:20.452464Z",
     "start_time": "2020-06-29T23:12:20.268591Z"
    },
    "scrolled": true
   },
   "outputs": [
    {
     "name": "stdout",
     "output_type": "stream",
     "text": [
      "1496.4989868651542\n"
     ]
    }
   ],
   "source": [
    "# select a reasonable metric (MSE in this case)\n",
    "# create an extremely simple model and measure its efficacy\n",
    "# e.g. use \"average salary\" for each industry as your model and then measure MSE\n",
    "# during 5-fold cross-validation\n",
    "# add average \n",
    "\n",
    "import numpy as np\n",
    "from sklearn.model_selection import KFold\n",
    "from sklearn.metrics import mean_squared_error\n",
    "from sklearn import preprocessing\n",
    "min_max_scaler = preprocessing.MinMaxScaler()\n",
    "    \n",
    "#train_data_clean['salary'] = np.log1p(train_data_clean['salary'])\n",
    "salary_pred = train_data_clean['salary']\n",
    "k_folds = KFold(n_splits=5)\n",
    "mean_squared_error_folds = []\n",
    "\n",
    "for train, test in k_folds.split(salary_pred):\n",
    "    \n",
    "    # load train salary data\n",
    "    train_salary = salary_pred.iloc[train]\n",
    "    \n",
    "    # generate average for train data\n",
    "    average_salary = np.empty(len(train_salary))\n",
    "    average_salary.fill(np.average(train_salary))\n",
    "    \n",
    "    # print the mean squarred error\n",
    "    mean_squared_error_folds.append(mean_squared_error(train_salary, average_salary))\n",
    "    #mean_squared_error(train_salary, average_salary)\n",
    "    \n",
    "print(np.average(mean_squared_error_folds))"
   ]
  },
  {
   "cell_type": "markdown",
   "metadata": {},
   "source": [
    "### ---- 6 Hypothesize solution ----"
   ]
  },
  {
   "cell_type": "markdown",
   "metadata": {},
   "source": [
    "Brainstorm 3 models that you think may improve results over the baseline model based on your EDA and explain why they're reasonable solutions here.\n",
    "\n",
    "Also write down any new features that you think you should try adding to the model based on your EDA, e.g. interaction variables, summary statistics for each group, etc"
   ]
  },
  {
   "cell_type": "markdown",
   "metadata": {},
   "source": [
    "***The next three models that should be choosen for the solution would be an Tree Classification, XGboost Model, and a Artificial Neural networks. They are reasonable models to use as they will work with continous label. Additionally, the numerical values will be scaled such that additonal insight can be gather by looking at a smaller range of data, and the numerical value will be on a consistent scale. Additional features should be added for the c-level position as those should require more salary potential than others and advanced degrees (Masters and Doctorate) should be separated from the rest as well.*** \n",
    "\n"
   ]
  },
  {
   "cell_type": "markdown",
   "metadata": {
    "ExecuteTime": {
     "end_time": "2020-06-10T03:54:54.462168Z",
     "start_time": "2020-06-10T03:54:54.458231Z"
    }
   },
   "source": [
    "Prior to adding running the data through a neural network, the data will be one-hot encoded."
   ]
  },
  {
   "cell_type": "markdown",
   "metadata": {},
   "source": [
    "## Part 3 - DEVELOP"
   ]
  },
  {
   "cell_type": "markdown",
   "metadata": {},
   "source": [
    "You will cycle through creating features, tuning models, and training/validing models (steps 7-9) until you've reached your efficacy goal\n",
    "\n",
    "#### Your metric will be MSE and your goal is:\n",
    " - <360 for entry-level data science roles\n",
    " - <320 for senior data science roles"
   ]
  },
  {
   "cell_type": "markdown",
   "metadata": {},
   "source": [
    "### ---- 7 Engineer features  ----"
   ]
  },
  {
   "cell_type": "markdown",
   "metadata": {},
   "source": [
    "#### --- Add new features ----"
   ]
  },
  {
   "cell_type": "code",
   "execution_count": 47,
   "metadata": {
    "ExecuteTime": {
     "end_time": "2020-06-29T23:12:21.842554Z",
     "start_time": "2020-06-29T23:12:20.455898Z"
    }
   },
   "outputs": [],
   "source": [
    "#make sure that data is ready for modeling\n",
    "#create any new features needed to potentially enhance model\n",
    "degrees = train_data_clean['degree']\n",
    "advanced_degrees = [\n",
    "    1 if degree == 'DOCTORAL' else 1 if degree == 'MASTERS' else 0\n",
    "    for degree in degrees\n",
    "]\n",
    "train_data_clean['IsAdvancedDegree'] = advanced_degrees\n",
    "\n",
    "job_types = train_data_clean['jobType']\n",
    "vp_or_c_levels = [\n",
    "    1 if job_type == 'CEO' else 1 if job_type == 'CFO' else\n",
    "    1 if job_type == 'CTO' else 1 if job_type == 'VICE_PRESIDENT' else 0\n",
    "    for job_type in job_types\n",
    "]\n",
    "train_data_clean['VicePresidentOrAbove'] = vp_or_c_levels"
   ]
  },
  {
   "cell_type": "markdown",
   "metadata": {},
   "source": [
    "#### --- Save data before manual encoding ----"
   ]
  },
  {
   "cell_type": "code",
   "execution_count": 48,
   "metadata": {
    "ExecuteTime": {
     "end_time": "2020-06-29T23:12:45.084596Z",
     "start_time": "2020-06-29T23:12:21.845283Z"
    }
   },
   "outputs": [],
   "source": [
    "# log transform salary before saving data to file\n",
    "# train_data_clean['salary'] = np.log(train_data_clean['salary']) + 1\n",
    "\n",
    "# add data to file such that additional steps can be done without re-running\n",
    "train_data_clean.to_csv(os.path.join('../data','cleaned','train_data_clean.tar.gz'), compression='gzip', index=False)"
   ]
  },
  {
   "cell_type": "markdown",
   "metadata": {
    "ExecuteTime": {
     "end_time": "2020-06-12T04:56:58.069732Z",
     "start_time": "2020-06-12T04:56:58.067460Z"
    }
   },
   "source": [
    "#### --- Ordinal Encoding ----"
   ]
  },
  {
   "cell_type": "code",
   "execution_count": 103,
   "metadata": {
    "ExecuteTime": {
     "end_time": "2020-06-29T20:43:27.194189Z",
     "start_time": "2020-06-29T20:43:26.947600Z"
    }
   },
   "outputs": [
    {
     "data": {
      "text/html": [
       "<div>\n",
       "<style scoped>\n",
       "    .dataframe tbody tr th:only-of-type {\n",
       "        vertical-align: middle;\n",
       "    }\n",
       "\n",
       "    .dataframe tbody tr th {\n",
       "        vertical-align: top;\n",
       "    }\n",
       "\n",
       "    .dataframe thead th {\n",
       "        text-align: right;\n",
       "    }\n",
       "</style>\n",
       "<table border=\"1\" class=\"dataframe\">\n",
       "  <thead>\n",
       "    <tr style=\"text-align: right;\">\n",
       "      <th></th>\n",
       "      <th>degree</th>\n",
       "      <th>DegreeGroup_OE</th>\n",
       "    </tr>\n",
       "  </thead>\n",
       "  <tbody>\n",
       "    <tr>\n",
       "      <th>0</th>\n",
       "      <td>MASTERS</td>\n",
       "      <td>4</td>\n",
       "    </tr>\n",
       "    <tr>\n",
       "      <th>1</th>\n",
       "      <td>HIGH_SCHOOL</td>\n",
       "      <td>2</td>\n",
       "    </tr>\n",
       "    <tr>\n",
       "      <th>2</th>\n",
       "      <td>DOCTORAL</td>\n",
       "      <td>5</td>\n",
       "    </tr>\n",
       "    <tr>\n",
       "      <th>3</th>\n",
       "      <td>DOCTORAL</td>\n",
       "      <td>5</td>\n",
       "    </tr>\n",
       "    <tr>\n",
       "      <th>4</th>\n",
       "      <td>BACHELORS</td>\n",
       "      <td>3</td>\n",
       "    </tr>\n",
       "  </tbody>\n",
       "</table>\n",
       "</div>"
      ],
      "text/plain": [
       "        degree  DegreeGroup_OE\n",
       "0      MASTERS               4\n",
       "1  HIGH_SCHOOL               2\n",
       "2     DOCTORAL               5\n",
       "3     DOCTORAL               5\n",
       "4    BACHELORS               3"
      ]
     },
     "execution_count": 103,
     "metadata": {},
     "output_type": "execute_result"
    }
   ],
   "source": [
    "# Perfrom Ordinal Encoding meaning that the order has a purpose\n",
    "# create a dictionary to store the order\n",
    "degree_ord_map = {'NONE': 1, 'HIGH_SCHOOL': 2, 'BACHELORS': 3, 'MASTERS': 4, 'DOCTORAL' : 5}\n",
    "\n",
    "# # add a new column to the dataframe for ordinal encoding\n",
    "train_data_clean['DegreeGroup_OE'] = train_data_clean['degree'].map(degree_ord_map)\n",
    "\n",
    "# # show a few samples\n",
    "train_data_clean[['degree','DegreeGroup_OE']].head()"
   ]
  },
  {
   "cell_type": "code",
   "execution_count": 44,
   "metadata": {
    "ExecuteTime": {
     "end_time": "2020-06-29T21:01:31.872110Z",
     "start_time": "2020-06-29T21:01:31.544497Z"
    }
   },
   "outputs": [
    {
     "data": {
      "text/html": [
       "<div>\n",
       "<style scoped>\n",
       "    .dataframe tbody tr th:only-of-type {\n",
       "        vertical-align: middle;\n",
       "    }\n",
       "\n",
       "    .dataframe tbody tr th {\n",
       "        vertical-align: top;\n",
       "    }\n",
       "\n",
       "    .dataframe thead th {\n",
       "        text-align: right;\n",
       "    }\n",
       "</style>\n",
       "<table border=\"1\" class=\"dataframe\">\n",
       "  <thead>\n",
       "    <tr style=\"text-align: right;\">\n",
       "      <th></th>\n",
       "      <th>jobType</th>\n",
       "      <th>JobTypeGroup_OE</th>\n",
       "    </tr>\n",
       "  </thead>\n",
       "  <tbody>\n",
       "    <tr>\n",
       "      <th>0</th>\n",
       "      <td>CFO</td>\n",
       "      <td>6</td>\n",
       "    </tr>\n",
       "    <tr>\n",
       "      <th>1</th>\n",
       "      <td>CEO</td>\n",
       "      <td>8</td>\n",
       "    </tr>\n",
       "    <tr>\n",
       "      <th>2</th>\n",
       "      <td>VICE_PRESIDENT</td>\n",
       "      <td>5</td>\n",
       "    </tr>\n",
       "    <tr>\n",
       "      <th>3</th>\n",
       "      <td>MANAGER</td>\n",
       "      <td>4</td>\n",
       "    </tr>\n",
       "    <tr>\n",
       "      <th>4</th>\n",
       "      <td>VICE_PRESIDENT</td>\n",
       "      <td>5</td>\n",
       "    </tr>\n",
       "  </tbody>\n",
       "</table>\n",
       "</div>"
      ],
      "text/plain": [
       "          jobType  JobTypeGroup_OE\n",
       "0             CFO                6\n",
       "1             CEO                8\n",
       "2  VICE_PRESIDENT                5\n",
       "3         MANAGER                4\n",
       "4  VICE_PRESIDENT                5"
      ]
     },
     "execution_count": 44,
     "metadata": {},
     "output_type": "execute_result"
    }
   ],
   "source": [
    "# Perfrom Ordinal Encoding meaning that the order has a purpose\n",
    "# # create a dictionary to store the order\n",
    "jobtype_ord_map = {\n",
    "    'JANITOR': 1,\n",
    "    'JUNIOR': 2,\n",
    "    'SENIOR': 3,\n",
    "    'MANAGER': 4,\n",
    "    'VICE_PRESIDENT': 5,\n",
    "    'CFO': 6,\n",
    "    'CTO': 7,\n",
    "    'CEO': 8\n",
    "}\n",
    "\n",
    "# # add a new column to the dataframe for ordinal encoding\n",
    "train_data_clean['JobTypeGroup_OE'] = train_data_clean['jobType'].map(\n",
    "    jobtype_ord_map)\n",
    "\n",
    "# # show a few samples\n",
    "train_data_clean[['jobType', 'JobTypeGroup_OE']].head()"
   ]
  },
  {
   "cell_type": "markdown",
   "metadata": {
    "ExecuteTime": {
     "end_time": "2020-06-12T04:57:23.932138Z",
     "start_time": "2020-06-12T04:57:23.929969Z"
    }
   },
   "source": [
    "#### --- Label Encoding ----"
   ]
  },
  {
   "cell_type": "code",
   "execution_count": 45,
   "metadata": {
    "ExecuteTime": {
     "end_time": "2020-06-29T21:01:33.025289Z",
     "start_time": "2020-06-29T21:01:32.434994Z"
    }
   },
   "outputs": [
    {
     "data": {
      "text/html": [
       "<div>\n",
       "<style scoped>\n",
       "    .dataframe tbody tr th:only-of-type {\n",
       "        vertical-align: middle;\n",
       "    }\n",
       "\n",
       "    .dataframe tbody tr th {\n",
       "        vertical-align: top;\n",
       "    }\n",
       "\n",
       "    .dataframe thead th {\n",
       "        text-align: right;\n",
       "    }\n",
       "</style>\n",
       "<table border=\"1\" class=\"dataframe\">\n",
       "  <thead>\n",
       "    <tr style=\"text-align: right;\">\n",
       "      <th></th>\n",
       "      <th>major</th>\n",
       "      <th>MajorGroup_LE</th>\n",
       "    </tr>\n",
       "  </thead>\n",
       "  <tbody>\n",
       "    <tr>\n",
       "      <th>0</th>\n",
       "      <td>MATH</td>\n",
       "      <td>6</td>\n",
       "    </tr>\n",
       "    <tr>\n",
       "      <th>1</th>\n",
       "      <td>NONE</td>\n",
       "      <td>7</td>\n",
       "    </tr>\n",
       "    <tr>\n",
       "      <th>2</th>\n",
       "      <td>PHYSICS</td>\n",
       "      <td>8</td>\n",
       "    </tr>\n",
       "    <tr>\n",
       "      <th>3</th>\n",
       "      <td>CHEMISTRY</td>\n",
       "      <td>2</td>\n",
       "    </tr>\n",
       "    <tr>\n",
       "      <th>4</th>\n",
       "      <td>PHYSICS</td>\n",
       "      <td>8</td>\n",
       "    </tr>\n",
       "    <tr>\n",
       "      <th>...</th>\n",
       "      <td>...</td>\n",
       "      <td>...</td>\n",
       "    </tr>\n",
       "    <tr>\n",
       "      <th>999995</th>\n",
       "      <td>CHEMISTRY</td>\n",
       "      <td>2</td>\n",
       "    </tr>\n",
       "    <tr>\n",
       "      <th>999996</th>\n",
       "      <td>NONE</td>\n",
       "      <td>7</td>\n",
       "    </tr>\n",
       "    <tr>\n",
       "      <th>999997</th>\n",
       "      <td>NONE</td>\n",
       "      <td>7</td>\n",
       "    </tr>\n",
       "    <tr>\n",
       "      <th>999998</th>\n",
       "      <td>NONE</td>\n",
       "      <td>7</td>\n",
       "    </tr>\n",
       "    <tr>\n",
       "      <th>999999</th>\n",
       "      <td>NONE</td>\n",
       "      <td>7</td>\n",
       "    </tr>\n",
       "  </tbody>\n",
       "</table>\n",
       "<p>991994 rows × 2 columns</p>\n",
       "</div>"
      ],
      "text/plain": [
       "            major  MajorGroup_LE\n",
       "0            MATH              6\n",
       "1            NONE              7\n",
       "2         PHYSICS              8\n",
       "3       CHEMISTRY              2\n",
       "4         PHYSICS              8\n",
       "...           ...            ...\n",
       "999995  CHEMISTRY              2\n",
       "999996       NONE              7\n",
       "999997       NONE              7\n",
       "999998       NONE              7\n",
       "999999       NONE              7\n",
       "\n",
       "[991994 rows x 2 columns]"
      ]
     },
     "execution_count": 45,
     "metadata": {},
     "output_type": "execute_result"
    }
   ],
   "source": [
    "# Perform Label encoding on Major input feature\n",
    "# add to train data clean data frame\n",
    "from sklearn.preprocessing import LabelEncoder\n",
    "le = LabelEncoder()\n",
    "major_labels = le.fit_transform(train_data_clean['major'])\n",
    "train_data_clean['MajorGroup_LE'] = major_labels\n",
    "                 \n",
    "# show a few rows\n",
    "train_data_clean[['major', 'MajorGroup_LE']]"
   ]
  },
  {
   "cell_type": "markdown",
   "metadata": {},
   "source": [
    "#### --- Ouantile Binning ----"
   ]
  },
  {
   "cell_type": "code",
   "execution_count": 46,
   "metadata": {
    "ExecuteTime": {
     "end_time": "2020-06-29T21:01:33.415195Z",
     "start_time": "2020-06-29T21:01:33.029836Z"
    }
   },
   "outputs": [
    {
     "data": {
      "text/html": [
       "<div>\n",
       "<style scoped>\n",
       "    .dataframe tbody tr th:only-of-type {\n",
       "        vertical-align: middle;\n",
       "    }\n",
       "\n",
       "    .dataframe tbody tr th {\n",
       "        vertical-align: top;\n",
       "    }\n",
       "\n",
       "    .dataframe thead th {\n",
       "        text-align: right;\n",
       "    }\n",
       "</style>\n",
       "<table border=\"1\" class=\"dataframe\">\n",
       "  <thead>\n",
       "    <tr style=\"text-align: right;\">\n",
       "      <th></th>\n",
       "      <th>milesFromMetropolis</th>\n",
       "      <th>miles_from_metro_label</th>\n",
       "      <th>yearsExperience</th>\n",
       "      <th>years_experience_label</th>\n",
       "    </tr>\n",
       "  </thead>\n",
       "  <tbody>\n",
       "    <tr>\n",
       "      <th>0</th>\n",
       "      <td>83.0</td>\n",
       "      <td>1.00</td>\n",
       "      <td>10.0</td>\n",
       "      <td>0.50</td>\n",
       "    </tr>\n",
       "    <tr>\n",
       "      <th>1</th>\n",
       "      <td>73.0</td>\n",
       "      <td>0.75</td>\n",
       "      <td>3.0</td>\n",
       "      <td>0.25</td>\n",
       "    </tr>\n",
       "    <tr>\n",
       "      <th>2</th>\n",
       "      <td>38.0</td>\n",
       "      <td>0.50</td>\n",
       "      <td>10.0</td>\n",
       "      <td>0.50</td>\n",
       "    </tr>\n",
       "    <tr>\n",
       "      <th>3</th>\n",
       "      <td>17.0</td>\n",
       "      <td>0.25</td>\n",
       "      <td>8.0</td>\n",
       "      <td>0.50</td>\n",
       "    </tr>\n",
       "    <tr>\n",
       "      <th>4</th>\n",
       "      <td>16.0</td>\n",
       "      <td>0.25</td>\n",
       "      <td>8.0</td>\n",
       "      <td>0.50</td>\n",
       "    </tr>\n",
       "  </tbody>\n",
       "</table>\n",
       "</div>"
      ],
      "text/plain": [
       "   milesFromMetropolis miles_from_metro_label  yearsExperience  \\\n",
       "0                 83.0                   1.00             10.0   \n",
       "1                 73.0                   0.75              3.0   \n",
       "2                 38.0                   0.50             10.0   \n",
       "3                 17.0                   0.25              8.0   \n",
       "4                 16.0                   0.25              8.0   \n",
       "\n",
       "  years_experience_label  \n",
       "0                   0.50  \n",
       "1                   0.25  \n",
       "2                   0.50  \n",
       "3                   0.50  \n",
       "4                   0.50  "
      ]
     },
     "execution_count": 46,
     "metadata": {},
     "output_type": "execute_result"
    }
   ],
   "source": [
    "# add quantile binning for both numeric input features\n",
    "train_data_clean['miles_from_metro_label'] = pd.qcut(train_data_clean.milesFromMetropolis, 4, labels=[0.25, 0.5, 0.75, 1])\n",
    "train_data_clean['years_experience_label'] = pd.qcut(train_data_clean.yearsExperience, 4, labels=[0.25, 0.5, 0.75, 1])\n",
    "\n",
    "# show a few rows\n",
    "train_data_clean[['milesFromMetropolis','miles_from_metro_label','yearsExperience', 'years_experience_label']].head()"
   ]
  },
  {
   "cell_type": "code",
   "execution_count": 47,
   "metadata": {
    "ExecuteTime": {
     "end_time": "2020-06-29T21:01:33.988773Z",
     "start_time": "2020-06-29T21:01:33.421504Z"
    }
   },
   "outputs": [
    {
     "name": "stdout",
     "output_type": "stream",
     "text": [
      "<class 'pandas.core.frame.DataFrame'>\n",
      "Int64Index: 991994 entries, 0 to 999999\n",
      "Data columns (total 14 columns):\n",
      " #   Column                  Non-Null Count   Dtype   \n",
      "---  ------                  --------------   -----   \n",
      " 0   salary                  991994 non-null  float64 \n",
      " 1   companyId               991994 non-null  object  \n",
      " 2   jobType                 991994 non-null  object  \n",
      " 3   degree                  991994 non-null  object  \n",
      " 4   major                   991994 non-null  object  \n",
      " 5   industry                991994 non-null  object  \n",
      " 6   yearsExperience         991994 non-null  float64 \n",
      " 7   milesFromMetropolis     991994 non-null  float64 \n",
      " 8   IsAdvancedDegree        991994 non-null  int64   \n",
      " 9   VicePresidentOrAbove    991994 non-null  int64   \n",
      " 10  JobTypeGroup_OE         991994 non-null  int64   \n",
      " 11  MajorGroup_LE           991994 non-null  int64   \n",
      " 12  miles_from_metro_label  991994 non-null  category\n",
      " 13  years_experience_label  991994 non-null  category\n",
      "dtypes: category(2), float64(3), int64(4), object(5)\n",
      "memory usage: 140.3+ MB\n"
     ]
    }
   ],
   "source": [
    "train_data_clean.info()"
   ]
  },
  {
   "cell_type": "code",
   "execution_count": 48,
   "metadata": {
    "ExecuteTime": {
     "end_time": "2020-06-29T21:01:35.701385Z",
     "start_time": "2020-06-29T21:01:33.993229Z"
    }
   },
   "outputs": [
    {
     "data": {
      "text/html": [
       "<div>\n",
       "<style scoped>\n",
       "    .dataframe tbody tr th:only-of-type {\n",
       "        vertical-align: middle;\n",
       "    }\n",
       "\n",
       "    .dataframe tbody tr th {\n",
       "        vertical-align: top;\n",
       "    }\n",
       "\n",
       "    .dataframe thead th {\n",
       "        text-align: right;\n",
       "    }\n",
       "</style>\n",
       "<table border=\"1\" class=\"dataframe\">\n",
       "  <thead>\n",
       "    <tr style=\"text-align: right;\">\n",
       "      <th></th>\n",
       "      <th>salary</th>\n",
       "      <th>companyId</th>\n",
       "      <th>jobType</th>\n",
       "      <th>degree</th>\n",
       "      <th>major</th>\n",
       "      <th>industry</th>\n",
       "      <th>yearsExperience</th>\n",
       "      <th>milesFromMetropolis</th>\n",
       "      <th>IsAdvancedDegree</th>\n",
       "      <th>VicePresidentOrAbove</th>\n",
       "      <th>...</th>\n",
       "      <th>companyId_COMP7</th>\n",
       "      <th>companyId_COMP8</th>\n",
       "      <th>companyId_COMP9</th>\n",
       "      <th>industry_AUTO</th>\n",
       "      <th>industry_EDUCATION</th>\n",
       "      <th>industry_FINANCE</th>\n",
       "      <th>industry_HEALTH</th>\n",
       "      <th>industry_OIL</th>\n",
       "      <th>industry_SERVICE</th>\n",
       "      <th>industry_WEB</th>\n",
       "    </tr>\n",
       "  </thead>\n",
       "  <tbody>\n",
       "    <tr>\n",
       "      <th>0</th>\n",
       "      <td>5.867534</td>\n",
       "      <td>COMP37</td>\n",
       "      <td>CFO</td>\n",
       "      <td>MASTERS</td>\n",
       "      <td>MATH</td>\n",
       "      <td>HEALTH</td>\n",
       "      <td>10.0</td>\n",
       "      <td>83.0</td>\n",
       "      <td>1</td>\n",
       "      <td>1</td>\n",
       "      <td>...</td>\n",
       "      <td>0</td>\n",
       "      <td>0</td>\n",
       "      <td>0</td>\n",
       "      <td>0</td>\n",
       "      <td>0</td>\n",
       "      <td>0</td>\n",
       "      <td>1</td>\n",
       "      <td>0</td>\n",
       "      <td>0</td>\n",
       "      <td>0</td>\n",
       "    </tr>\n",
       "    <tr>\n",
       "      <th>1</th>\n",
       "      <td>5.615121</td>\n",
       "      <td>COMP19</td>\n",
       "      <td>CEO</td>\n",
       "      <td>HIGH_SCHOOL</td>\n",
       "      <td>NONE</td>\n",
       "      <td>WEB</td>\n",
       "      <td>3.0</td>\n",
       "      <td>73.0</td>\n",
       "      <td>0</td>\n",
       "      <td>1</td>\n",
       "      <td>...</td>\n",
       "      <td>0</td>\n",
       "      <td>0</td>\n",
       "      <td>0</td>\n",
       "      <td>0</td>\n",
       "      <td>0</td>\n",
       "      <td>0</td>\n",
       "      <td>0</td>\n",
       "      <td>0</td>\n",
       "      <td>0</td>\n",
       "      <td>1</td>\n",
       "    </tr>\n",
       "    <tr>\n",
       "      <th>2</th>\n",
       "      <td>5.919981</td>\n",
       "      <td>COMP52</td>\n",
       "      <td>VICE_PRESIDENT</td>\n",
       "      <td>DOCTORAL</td>\n",
       "      <td>PHYSICS</td>\n",
       "      <td>HEALTH</td>\n",
       "      <td>10.0</td>\n",
       "      <td>38.0</td>\n",
       "      <td>1</td>\n",
       "      <td>1</td>\n",
       "      <td>...</td>\n",
       "      <td>0</td>\n",
       "      <td>0</td>\n",
       "      <td>0</td>\n",
       "      <td>0</td>\n",
       "      <td>0</td>\n",
       "      <td>0</td>\n",
       "      <td>1</td>\n",
       "      <td>0</td>\n",
       "      <td>0</td>\n",
       "      <td>0</td>\n",
       "    </tr>\n",
       "    <tr>\n",
       "      <th>3</th>\n",
       "      <td>5.955827</td>\n",
       "      <td>COMP38</td>\n",
       "      <td>MANAGER</td>\n",
       "      <td>DOCTORAL</td>\n",
       "      <td>CHEMISTRY</td>\n",
       "      <td>AUTO</td>\n",
       "      <td>8.0</td>\n",
       "      <td>17.0</td>\n",
       "      <td>1</td>\n",
       "      <td>0</td>\n",
       "      <td>...</td>\n",
       "      <td>0</td>\n",
       "      <td>0</td>\n",
       "      <td>0</td>\n",
       "      <td>1</td>\n",
       "      <td>0</td>\n",
       "      <td>0</td>\n",
       "      <td>0</td>\n",
       "      <td>0</td>\n",
       "      <td>0</td>\n",
       "      <td>0</td>\n",
       "    </tr>\n",
       "    <tr>\n",
       "      <th>4</th>\n",
       "      <td>6.093750</td>\n",
       "      <td>COMP7</td>\n",
       "      <td>VICE_PRESIDENT</td>\n",
       "      <td>BACHELORS</td>\n",
       "      <td>PHYSICS</td>\n",
       "      <td>FINANCE</td>\n",
       "      <td>8.0</td>\n",
       "      <td>16.0</td>\n",
       "      <td>0</td>\n",
       "      <td>1</td>\n",
       "      <td>...</td>\n",
       "      <td>1</td>\n",
       "      <td>0</td>\n",
       "      <td>0</td>\n",
       "      <td>0</td>\n",
       "      <td>0</td>\n",
       "      <td>1</td>\n",
       "      <td>0</td>\n",
       "      <td>0</td>\n",
       "      <td>0</td>\n",
       "      <td>0</td>\n",
       "    </tr>\n",
       "  </tbody>\n",
       "</table>\n",
       "<p>5 rows × 84 columns</p>\n",
       "</div>"
      ],
      "text/plain": [
       "     salary companyId         jobType       degree      major industry  \\\n",
       "0  5.867534    COMP37             CFO      MASTERS       MATH   HEALTH   \n",
       "1  5.615121    COMP19             CEO  HIGH_SCHOOL       NONE      WEB   \n",
       "2  5.919981    COMP52  VICE_PRESIDENT     DOCTORAL    PHYSICS   HEALTH   \n",
       "3  5.955827    COMP38         MANAGER     DOCTORAL  CHEMISTRY     AUTO   \n",
       "4  6.093750     COMP7  VICE_PRESIDENT    BACHELORS    PHYSICS  FINANCE   \n",
       "\n",
       "   yearsExperience  milesFromMetropolis  IsAdvancedDegree  \\\n",
       "0             10.0                 83.0                 1   \n",
       "1              3.0                 73.0                 0   \n",
       "2             10.0                 38.0                 1   \n",
       "3              8.0                 17.0                 1   \n",
       "4              8.0                 16.0                 0   \n",
       "\n",
       "   VicePresidentOrAbove  ...  companyId_COMP7  companyId_COMP8  \\\n",
       "0                     1  ...                0                0   \n",
       "1                     1  ...                0                0   \n",
       "2                     1  ...                0                0   \n",
       "3                     0  ...                0                0   \n",
       "4                     1  ...                1                0   \n",
       "\n",
       "  companyId_COMP9 industry_AUTO  industry_EDUCATION  industry_FINANCE  \\\n",
       "0               0             0                   0                 0   \n",
       "1               0             0                   0                 0   \n",
       "2               0             0                   0                 0   \n",
       "3               0             1                   0                 0   \n",
       "4               0             0                   0                 1   \n",
       "\n",
       "   industry_HEALTH  industry_OIL  industry_SERVICE  industry_WEB  \n",
       "0                1             0                 0             0  \n",
       "1                0             0                 0             1  \n",
       "2                1             0                 0             0  \n",
       "3                0             0                 0             0  \n",
       "4                0             0                 0             0  \n",
       "\n",
       "[5 rows x 84 columns]"
      ]
     },
     "execution_count": 48,
     "metadata": {},
     "output_type": "execute_result"
    }
   ],
   "source": [
    "# create dummy (one-hot encoded) columns for companyID and industry\n",
    "company_industry_features = pd.get_dummies(train_data_clean[['companyId', 'industry']])\n",
    "train_data_clean = pd.concat([train_data_clean, company_industry_features], axis=1)\n",
    "\n",
    "# show a few rows\n",
    "train_data_clean.head()\n",
    "\n"
   ]
  },
  {
   "cell_type": "code",
   "execution_count": 49,
   "metadata": {
    "ExecuteTime": {
     "end_time": "2020-06-29T21:01:37.152354Z",
     "start_time": "2020-06-29T21:01:35.706835Z"
    }
   },
   "outputs": [
    {
     "name": "stdout",
     "output_type": "stream",
     "text": [
      "<class 'pandas.core.frame.DataFrame'>\n",
      "Int64Index: 991994 entries, 0 to 999999\n",
      "Data columns (total 84 columns):\n",
      " #   Column                  Non-Null Count   Dtype   \n",
      "---  ------                  --------------   -----   \n",
      " 0   salary                  991994 non-null  float64 \n",
      " 1   companyId               991994 non-null  object  \n",
      " 2   jobType                 991994 non-null  object  \n",
      " 3   degree                  991994 non-null  object  \n",
      " 4   major                   991994 non-null  object  \n",
      " 5   industry                991994 non-null  object  \n",
      " 6   yearsExperience         991994 non-null  float64 \n",
      " 7   milesFromMetropolis     991994 non-null  float64 \n",
      " 8   IsAdvancedDegree        991994 non-null  int64   \n",
      " 9   VicePresidentOrAbove    991994 non-null  int64   \n",
      " 10  JobTypeGroup_OE         991994 non-null  int64   \n",
      " 11  MajorGroup_LE           991994 non-null  int64   \n",
      " 12  miles_from_metro_label  991994 non-null  category\n",
      " 13  years_experience_label  991994 non-null  category\n",
      " 14  companyId_COMP0         991994 non-null  uint8   \n",
      " 15  companyId_COMP1         991994 non-null  uint8   \n",
      " 16  companyId_COMP10        991994 non-null  uint8   \n",
      " 17  companyId_COMP11        991994 non-null  uint8   \n",
      " 18  companyId_COMP12        991994 non-null  uint8   \n",
      " 19  companyId_COMP13        991994 non-null  uint8   \n",
      " 20  companyId_COMP14        991994 non-null  uint8   \n",
      " 21  companyId_COMP15        991994 non-null  uint8   \n",
      " 22  companyId_COMP16        991994 non-null  uint8   \n",
      " 23  companyId_COMP17        991994 non-null  uint8   \n",
      " 24  companyId_COMP18        991994 non-null  uint8   \n",
      " 25  companyId_COMP19        991994 non-null  uint8   \n",
      " 26  companyId_COMP2         991994 non-null  uint8   \n",
      " 27  companyId_COMP20        991994 non-null  uint8   \n",
      " 28  companyId_COMP21        991994 non-null  uint8   \n",
      " 29  companyId_COMP22        991994 non-null  uint8   \n",
      " 30  companyId_COMP23        991994 non-null  uint8   \n",
      " 31  companyId_COMP24        991994 non-null  uint8   \n",
      " 32  companyId_COMP25        991994 non-null  uint8   \n",
      " 33  companyId_COMP26        991994 non-null  uint8   \n",
      " 34  companyId_COMP27        991994 non-null  uint8   \n",
      " 35  companyId_COMP28        991994 non-null  uint8   \n",
      " 36  companyId_COMP29        991994 non-null  uint8   \n",
      " 37  companyId_COMP3         991994 non-null  uint8   \n",
      " 38  companyId_COMP30        991994 non-null  uint8   \n",
      " 39  companyId_COMP31        991994 non-null  uint8   \n",
      " 40  companyId_COMP32        991994 non-null  uint8   \n",
      " 41  companyId_COMP33        991994 non-null  uint8   \n",
      " 42  companyId_COMP34        991994 non-null  uint8   \n",
      " 43  companyId_COMP35        991994 non-null  uint8   \n",
      " 44  companyId_COMP36        991994 non-null  uint8   \n",
      " 45  companyId_COMP37        991994 non-null  uint8   \n",
      " 46  companyId_COMP38        991994 non-null  uint8   \n",
      " 47  companyId_COMP39        991994 non-null  uint8   \n",
      " 48  companyId_COMP4         991994 non-null  uint8   \n",
      " 49  companyId_COMP40        991994 non-null  uint8   \n",
      " 50  companyId_COMP41        991994 non-null  uint8   \n",
      " 51  companyId_COMP42        991994 non-null  uint8   \n",
      " 52  companyId_COMP43        991994 non-null  uint8   \n",
      " 53  companyId_COMP44        991994 non-null  uint8   \n",
      " 54  companyId_COMP45        991994 non-null  uint8   \n",
      " 55  companyId_COMP46        991994 non-null  uint8   \n",
      " 56  companyId_COMP47        991994 non-null  uint8   \n",
      " 57  companyId_COMP48        991994 non-null  uint8   \n",
      " 58  companyId_COMP49        991994 non-null  uint8   \n",
      " 59  companyId_COMP5         991994 non-null  uint8   \n",
      " 60  companyId_COMP50        991994 non-null  uint8   \n",
      " 61  companyId_COMP51        991994 non-null  uint8   \n",
      " 62  companyId_COMP52        991994 non-null  uint8   \n",
      " 63  companyId_COMP53        991994 non-null  uint8   \n",
      " 64  companyId_COMP54        991994 non-null  uint8   \n",
      " 65  companyId_COMP55        991994 non-null  uint8   \n",
      " 66  companyId_COMP56        991994 non-null  uint8   \n",
      " 67  companyId_COMP57        991994 non-null  uint8   \n",
      " 68  companyId_COMP58        991994 non-null  uint8   \n",
      " 69  companyId_COMP59        991994 non-null  uint8   \n",
      " 70  companyId_COMP6         991994 non-null  uint8   \n",
      " 71  companyId_COMP60        991994 non-null  uint8   \n",
      " 72  companyId_COMP61        991994 non-null  uint8   \n",
      " 73  companyId_COMP62        991994 non-null  uint8   \n",
      " 74  companyId_COMP7         991994 non-null  uint8   \n",
      " 75  companyId_COMP8         991994 non-null  uint8   \n",
      " 76  companyId_COMP9         991994 non-null  uint8   \n",
      " 77  industry_AUTO           991994 non-null  uint8   \n",
      " 78  industry_EDUCATION      991994 non-null  uint8   \n",
      " 79  industry_FINANCE        991994 non-null  uint8   \n",
      " 80  industry_HEALTH         991994 non-null  uint8   \n",
      " 81  industry_OIL            991994 non-null  uint8   \n",
      " 82  industry_SERVICE        991994 non-null  uint8   \n",
      " 83  industry_WEB            991994 non-null  uint8   \n",
      "dtypes: category(2), float64(3), int64(4), object(5), uint8(70)\n",
      "memory usage: 206.5+ MB\n"
     ]
    }
   ],
   "source": [
    "train_data_clean.info()"
   ]
  },
  {
   "cell_type": "markdown",
   "metadata": {},
   "source": [
    "#### --- Dropping Original Columns ----"
   ]
  },
  {
   "cell_type": "code",
   "execution_count": 50,
   "metadata": {
    "ExecuteTime": {
     "end_time": "2020-06-29T21:01:37.633660Z",
     "start_time": "2020-06-29T21:01:37.160496Z"
    }
   },
   "outputs": [],
   "source": [
    "# # drop encoded columns and unnecessary columns\n",
    "train_data_clean.drop([\n",
    "    'milesFromMetropolis', 'yearsExperience', 'jobType', 'degree', 'major',\n",
    "    'companyId', 'industry'\n",
    "],\n",
    "                      axis=1,\n",
    "                      inplace=True)\n",
    "\n",
    "# # standard column names for reading\n",
    "train_data_clean.columns = map(str.capitalize, train_data_clean.columns)"
   ]
  },
  {
   "cell_type": "code",
   "execution_count": 51,
   "metadata": {
    "ExecuteTime": {
     "end_time": "2020-06-29T21:01:38.652365Z",
     "start_time": "2020-06-29T21:01:37.638442Z"
    }
   },
   "outputs": [
    {
     "name": "stdout",
     "output_type": "stream",
     "text": [
      "<class 'pandas.core.frame.DataFrame'>\n",
      "Int64Index: 991994 entries, 0 to 999999\n",
      "Data columns (total 77 columns):\n",
      " #   Column                  Non-Null Count   Dtype   \n",
      "---  ------                  --------------   -----   \n",
      " 0   Salary                  991994 non-null  float64 \n",
      " 1   Isadvanceddegree        991994 non-null  int64   \n",
      " 2   Vicepresidentorabove    991994 non-null  int64   \n",
      " 3   Jobtypegroup_oe         991994 non-null  int64   \n",
      " 4   Majorgroup_le           991994 non-null  int64   \n",
      " 5   Miles_from_metro_label  991994 non-null  category\n",
      " 6   Years_experience_label  991994 non-null  category\n",
      " 7   Companyid_comp0         991994 non-null  uint8   \n",
      " 8   Companyid_comp1         991994 non-null  uint8   \n",
      " 9   Companyid_comp10        991994 non-null  uint8   \n",
      " 10  Companyid_comp11        991994 non-null  uint8   \n",
      " 11  Companyid_comp12        991994 non-null  uint8   \n",
      " 12  Companyid_comp13        991994 non-null  uint8   \n",
      " 13  Companyid_comp14        991994 non-null  uint8   \n",
      " 14  Companyid_comp15        991994 non-null  uint8   \n",
      " 15  Companyid_comp16        991994 non-null  uint8   \n",
      " 16  Companyid_comp17        991994 non-null  uint8   \n",
      " 17  Companyid_comp18        991994 non-null  uint8   \n",
      " 18  Companyid_comp19        991994 non-null  uint8   \n",
      " 19  Companyid_comp2         991994 non-null  uint8   \n",
      " 20  Companyid_comp20        991994 non-null  uint8   \n",
      " 21  Companyid_comp21        991994 non-null  uint8   \n",
      " 22  Companyid_comp22        991994 non-null  uint8   \n",
      " 23  Companyid_comp23        991994 non-null  uint8   \n",
      " 24  Companyid_comp24        991994 non-null  uint8   \n",
      " 25  Companyid_comp25        991994 non-null  uint8   \n",
      " 26  Companyid_comp26        991994 non-null  uint8   \n",
      " 27  Companyid_comp27        991994 non-null  uint8   \n",
      " 28  Companyid_comp28        991994 non-null  uint8   \n",
      " 29  Companyid_comp29        991994 non-null  uint8   \n",
      " 30  Companyid_comp3         991994 non-null  uint8   \n",
      " 31  Companyid_comp30        991994 non-null  uint8   \n",
      " 32  Companyid_comp31        991994 non-null  uint8   \n",
      " 33  Companyid_comp32        991994 non-null  uint8   \n",
      " 34  Companyid_comp33        991994 non-null  uint8   \n",
      " 35  Companyid_comp34        991994 non-null  uint8   \n",
      " 36  Companyid_comp35        991994 non-null  uint8   \n",
      " 37  Companyid_comp36        991994 non-null  uint8   \n",
      " 38  Companyid_comp37        991994 non-null  uint8   \n",
      " 39  Companyid_comp38        991994 non-null  uint8   \n",
      " 40  Companyid_comp39        991994 non-null  uint8   \n",
      " 41  Companyid_comp4         991994 non-null  uint8   \n",
      " 42  Companyid_comp40        991994 non-null  uint8   \n",
      " 43  Companyid_comp41        991994 non-null  uint8   \n",
      " 44  Companyid_comp42        991994 non-null  uint8   \n",
      " 45  Companyid_comp43        991994 non-null  uint8   \n",
      " 46  Companyid_comp44        991994 non-null  uint8   \n",
      " 47  Companyid_comp45        991994 non-null  uint8   \n",
      " 48  Companyid_comp46        991994 non-null  uint8   \n",
      " 49  Companyid_comp47        991994 non-null  uint8   \n",
      " 50  Companyid_comp48        991994 non-null  uint8   \n",
      " 51  Companyid_comp49        991994 non-null  uint8   \n",
      " 52  Companyid_comp5         991994 non-null  uint8   \n",
      " 53  Companyid_comp50        991994 non-null  uint8   \n",
      " 54  Companyid_comp51        991994 non-null  uint8   \n",
      " 55  Companyid_comp52        991994 non-null  uint8   \n",
      " 56  Companyid_comp53        991994 non-null  uint8   \n",
      " 57  Companyid_comp54        991994 non-null  uint8   \n",
      " 58  Companyid_comp55        991994 non-null  uint8   \n",
      " 59  Companyid_comp56        991994 non-null  uint8   \n",
      " 60  Companyid_comp57        991994 non-null  uint8   \n",
      " 61  Companyid_comp58        991994 non-null  uint8   \n",
      " 62  Companyid_comp59        991994 non-null  uint8   \n",
      " 63  Companyid_comp6         991994 non-null  uint8   \n",
      " 64  Companyid_comp60        991994 non-null  uint8   \n",
      " 65  Companyid_comp61        991994 non-null  uint8   \n",
      " 66  Companyid_comp62        991994 non-null  uint8   \n",
      " 67  Companyid_comp7         991994 non-null  uint8   \n",
      " 68  Companyid_comp8         991994 non-null  uint8   \n",
      " 69  Companyid_comp9         991994 non-null  uint8   \n",
      " 70  Industry_auto           991994 non-null  uint8   \n",
      " 71  Industry_education      991994 non-null  uint8   \n",
      " 72  Industry_finance        991994 non-null  uint8   \n",
      " 73  Industry_health         991994 non-null  uint8   \n",
      " 74  Industry_oil            991994 non-null  uint8   \n",
      " 75  Industry_service        991994 non-null  uint8   \n",
      " 76  Industry_web            991994 non-null  uint8   \n",
      "dtypes: category(2), float64(1), int64(4), uint8(70)\n",
      "memory usage: 153.5 MB\n"
     ]
    }
   ],
   "source": [
    "# make sure they are gone from the dataframe\n",
    "train_data_clean.info()"
   ]
  },
  {
   "cell_type": "code",
   "execution_count": 52,
   "metadata": {
    "ExecuteTime": {
     "end_time": "2020-06-29T21:02:37.252489Z",
     "start_time": "2020-06-29T21:01:38.660715Z"
    }
   },
   "outputs": [],
   "source": [
    "# add data to file such that additional steps can be done without re-running\n",
    "train_data_clean.to_csv(os.path.join('../','data','cleaned','train_data_clean_manual.tar.gz'), compression='gzip', index=False)"
   ]
  },
  {
   "cell_type": "code",
   "execution_count": 53,
   "metadata": {
    "ExecuteTime": {
     "end_time": "2020-06-29T21:02:37.273901Z",
     "start_time": "2020-06-29T21:02:37.257006Z"
    }
   },
   "outputs": [
    {
     "data": {
      "text/plain": [
       "['Salary',\n",
       " 'Isadvanceddegree',\n",
       " 'Vicepresidentorabove',\n",
       " 'Jobtypegroup_oe',\n",
       " 'Majorgroup_le',\n",
       " 'Miles_from_metro_label',\n",
       " 'Years_experience_label',\n",
       " 'Companyid_comp0',\n",
       " 'Companyid_comp1',\n",
       " 'Companyid_comp10',\n",
       " 'Companyid_comp11',\n",
       " 'Companyid_comp12',\n",
       " 'Companyid_comp13',\n",
       " 'Companyid_comp14',\n",
       " 'Companyid_comp15',\n",
       " 'Companyid_comp16',\n",
       " 'Companyid_comp17',\n",
       " 'Companyid_comp18',\n",
       " 'Companyid_comp19',\n",
       " 'Companyid_comp2',\n",
       " 'Companyid_comp20',\n",
       " 'Companyid_comp21',\n",
       " 'Companyid_comp22',\n",
       " 'Companyid_comp23',\n",
       " 'Companyid_comp24',\n",
       " 'Companyid_comp25',\n",
       " 'Companyid_comp26',\n",
       " 'Companyid_comp27',\n",
       " 'Companyid_comp28',\n",
       " 'Companyid_comp29',\n",
       " 'Companyid_comp3',\n",
       " 'Companyid_comp30',\n",
       " 'Companyid_comp31',\n",
       " 'Companyid_comp32',\n",
       " 'Companyid_comp33',\n",
       " 'Companyid_comp34',\n",
       " 'Companyid_comp35',\n",
       " 'Companyid_comp36',\n",
       " 'Companyid_comp37',\n",
       " 'Companyid_comp38',\n",
       " 'Companyid_comp39',\n",
       " 'Companyid_comp4',\n",
       " 'Companyid_comp40',\n",
       " 'Companyid_comp41',\n",
       " 'Companyid_comp42',\n",
       " 'Companyid_comp43',\n",
       " 'Companyid_comp44',\n",
       " 'Companyid_comp45',\n",
       " 'Companyid_comp46',\n",
       " 'Companyid_comp47',\n",
       " 'Companyid_comp48',\n",
       " 'Companyid_comp49',\n",
       " 'Companyid_comp5',\n",
       " 'Companyid_comp50',\n",
       " 'Companyid_comp51',\n",
       " 'Companyid_comp52',\n",
       " 'Companyid_comp53',\n",
       " 'Companyid_comp54',\n",
       " 'Companyid_comp55',\n",
       " 'Companyid_comp56',\n",
       " 'Companyid_comp57',\n",
       " 'Companyid_comp58',\n",
       " 'Companyid_comp59',\n",
       " 'Companyid_comp6',\n",
       " 'Companyid_comp60',\n",
       " 'Companyid_comp61',\n",
       " 'Companyid_comp62',\n",
       " 'Companyid_comp7',\n",
       " 'Companyid_comp8',\n",
       " 'Companyid_comp9',\n",
       " 'Industry_auto',\n",
       " 'Industry_education',\n",
       " 'Industry_finance',\n",
       " 'Industry_health',\n",
       " 'Industry_oil',\n",
       " 'Industry_service',\n",
       " 'Industry_web']"
      ]
     },
     "execution_count": 53,
     "metadata": {},
     "output_type": "execute_result"
    }
   ],
   "source": [
    "train_data_clean.columns.to_list()"
   ]
  },
  {
   "cell_type": "markdown",
   "metadata": {},
   "source": [
    "### ---- 8 Create models ----"
   ]
  },
  {
   "cell_type": "markdown",
   "metadata": {},
   "source": [
    "#### Preprocessing"
   ]
  },
  {
   "cell_type": "code",
   "execution_count": 57,
   "metadata": {
    "ExecuteTime": {
     "end_time": "2020-06-29T21:05:47.975654Z",
     "start_time": "2020-06-29T21:05:44.099286Z"
    }
   },
   "outputs": [],
   "source": [
    "# load class\n",
    "from helperFile import MachineLearning, random_tune\n",
    "import os\n",
    "\n",
    "# load data and set label\n",
    "machine_learning = MachineLearning(data=os.path.join('../data','cleaned','train_data_clean.tar.gz'), label='salary')\n",
    " \n",
    "# perform preprocessing\n",
    "numeric_columns =  ['yearsExperience', 'milesFromMetropolis']\n",
    "category_columns = ['industry', 'jobType', 'degree']\n",
    "preprocessing = machine_learning.PreProcessing(scale_cols=numeric_columns, \n",
    "                                               one_hot_cols=category_columns)"
   ]
  },
  {
   "cell_type": "markdown",
   "metadata": {},
   "source": [
    "#### Linear Regression"
   ]
  },
  {
   "cell_type": "markdown",
   "metadata": {},
   "source": [
    "##### Categorical Features only"
   ]
  },
  {
   "cell_type": "code",
   "execution_count": 58,
   "metadata": {
    "ExecuteTime": {
     "end_time": "2020-06-29T21:06:17.154276Z",
     "start_time": "2020-06-29T21:06:09.912211Z"
    }
   },
   "outputs": [
    {
     "data": {
      "text/plain": [
       "0.5546921734397396"
      ]
     },
     "execution_count": 58,
     "metadata": {},
     "output_type": "execute_result"
    }
   ],
   "source": [
    "import pandas as pd\n",
    "import numpy as np\n",
    "import time\n",
    "from sklearn.preprocessing import OneHotEncoder, StandardScaler, LabelEncoder, OrdinalEncoder\n",
    "from sklearn.impute import SimpleImputer\n",
    "from sklearn.compose import make_column_transformer\n",
    "from sklearn.pipeline import make_pipeline\n",
    "from sklearn.model_selection import train_test_split,  cross_val_score\n",
    "from sklearn.linear_model import LinearRegression\n",
    "import logging\n",
    "import os\n",
    "\n",
    "# load data and set label\n",
    "train_data = pd.read_csv(os.path.join('../data','cleaned','train_data_clean.tar.gz'), low_memory=False)\n",
    " \n",
    "# log transform salary data\n",
    "train_data['salary'] = np.log(train_data['salary']) + 1\n",
    "\n",
    "# set X and y\n",
    "X = train_data.drop('salary', axis=1)\n",
    "y = train_data[['salary']]\n",
    "        \n",
    "# Split Train and Test\n",
    "X_train, X_test, y_train, y_test = train_test_split(X,\n",
    "                                                    y,\n",
    "                                                    test_size=0.33,\n",
    "                                                    random_state=42)    \n",
    "    \n",
    "\n",
    "ohe = OneHotEncoder(handle_unknown='ignore', sparse=True)\n",
    "label_encode = LabelEncoder()\n",
    "imputer = SimpleImputer(add_indicator=True, verbose=1)\n",
    "scaler = StandardScaler()\n",
    "\n",
    "category_columns = ['industry', 'degree', 'jobType', 'major']\n",
    "\n",
    "# Make Transformer\n",
    "preprocessing = make_column_transformer(\n",
    "            (ohe, category_columns),\n",
    "            remainder='drop')\n",
    "\n",
    "    \n",
    "start = time.time()\n",
    "logging.info(\"Linear Regression Start\")\n",
    "\n",
    "# put model into an object\n",
    "linear_regression = LinearRegression()\n",
    "\n",
    "# Make pipeline\n",
    "pipe = make_pipeline(preprocessing, linear_regression)        \n",
    "\n",
    "# Fit model\n",
    "pipe.fit(X_train, y_train.values.ravel())\n",
    "\n",
    "# Score\n",
    "score = pipe.score(X_test, y_test.values.ravel()) \n",
    "\n",
    "# set log for finishing\n",
    "logging.info(f\"Score for Linear Regression is {score}\")\n",
    "logging.info(f\"Run Time for Linear Regression is {(time.time() - start) // 60} minutes\")\n",
    "\n",
    "# Print Best Score\n",
    "score"
   ]
  },
  {
   "cell_type": "markdown",
   "metadata": {},
   "source": [
    "##### Numerical Features Only"
   ]
  },
  {
   "cell_type": "code",
   "execution_count": 15,
   "metadata": {
    "ExecuteTime": {
     "end_time": "2020-06-29T00:17:46.543708Z",
     "start_time": "2020-06-29T00:17:44.792437Z"
    }
   },
   "outputs": [
    {
     "data": {
      "text/plain": [
       "0.2173751510084717"
      ]
     },
     "execution_count": 15,
     "metadata": {},
     "output_type": "execute_result"
    }
   ],
   "source": [
    "import pandas as pd\n",
    "import numpy as np\n",
    "import time\n",
    "from sklearn.preprocessing import OneHotEncoder, StandardScaler, LabelEncoder, OrdinalEncoder\n",
    "from sklearn.impute import SimpleImputer\n",
    "from sklearn.compose import make_column_transformer\n",
    "from sklearn.pipeline import make_pipeline\n",
    "from sklearn.model_selection import train_test_split,  cross_val_score\n",
    "from sklearn.linear_model import LinearRegression\n",
    "import logging\n",
    "import os\n",
    "\n",
    "# load data and set label\n",
    "train_data = pd.read_csv(os.path.join('../data','cleaned','train_data_clean.tar.gz'), low_memory=False)\n",
    "\n",
    "# log transform salary data\n",
    "train_data['salary'] = np.log(train_data['salary']) + 1\n",
    "\n",
    "# set X and y\n",
    "X = train_data.drop('salary', axis=1)\n",
    "y = train_data[['salary']]\n",
    "        \n",
    "# Split Train and Test\n",
    "X_train, X_test, y_train, y_test = train_test_split(X,\n",
    "                                                    y,\n",
    "                                                    test_size=0.33,\n",
    "                                                    random_state=42)    \n",
    "    \n",
    "\n",
    "ohe = OneHotEncoder(handle_unknown='ignore', sparse=True)\n",
    "label_encode = LabelEncoder()\n",
    "imputer = SimpleImputer(add_indicator=True, verbose=1)\n",
    "scaler = StandardScaler()\n",
    "\n",
    "numeric_columns =  ['yearsExperience', 'milesFromMetropolis']\n",
    "\n",
    "# Make Transformer\n",
    "preprocessing = make_column_transformer(\n",
    "            (make_pipeline(imputer,scaler), numeric_columns),\n",
    "            remainder='drop')\n",
    "\n",
    "    \n",
    "start = time.time()\n",
    "logging.info(\"Linear Regression Start Log Transform\")\n",
    "\n",
    "# put model into an object\n",
    "linear_regression = LinearRegression()\n",
    "\n",
    "# Make pipeline\n",
    "pipe = make_pipeline(preprocessing, linear_regression)        \n",
    "\n",
    "# Fit model\n",
    "pipe.fit(X_train, y_train.values.ravel())\n",
    "\n",
    "# Score\n",
    "score = pipe.score(X_test, y_test.values.ravel()) \n",
    "\n",
    "# set log for finishing\n",
    "logging.info(f\"Score for Linear Regression is {score}\")\n",
    "logging.info(f\"Run Time for Linear Regression is {(time.time() - start) // 60} minutes\")\n",
    "\n",
    "# Print Best Score\n",
    "score"
   ]
  },
  {
   "cell_type": "markdown",
   "metadata": {},
   "source": [
    "##### include all features"
   ]
  },
  {
   "cell_type": "code",
   "execution_count": 1,
   "metadata": {
    "ExecuteTime": {
     "end_time": "2020-06-30T21:19:15.192582Z",
     "start_time": "2020-06-30T21:19:06.842870Z"
    }
   },
   "outputs": [
    {
     "name": "stdout",
     "output_type": "stream",
     "text": [
      "0.7395796919875216 389.4016080814103\n"
     ]
    }
   ],
   "source": [
    "import os\n",
    "from helperFile import random_tune, MachineLearning, numeric_columns, category_columns\n",
    "\n",
    "# store name to be use in results\n",
    "model = 'LinearRegression'\n",
    "\n",
    "# load data\n",
    "machine_learning = MachineLearning(data=os.path.join('../data','cleaned','train_data_clean.tar.gz'), \n",
    "                                   label='salary',\n",
    "                                   log_file=os.path.join('../logs', f\"{model}\"))  \n",
    " \n",
    "# setup pre processing\n",
    "preprocessing = machine_learning.PreProcessing(scale_cols=numeric_columns, \n",
    "                                               one_hot_cols=category_columns)\n",
    "\n",
    "# perform random forest using best parameters\n",
    "score, mse = machine_learning.LinearRegression()\n",
    "\n",
    "# calculate mse \n",
    "\n",
    "# print final model score\n",
    "print(score, mse)"
   ]
  },
  {
   "cell_type": "markdown",
   "metadata": {},
   "source": [
    "#### Random Forest"
   ]
  },
  {
   "cell_type": "markdown",
   "metadata": {},
   "source": [
    "##### tune random forest (max depth, n_estimators, max_features, min_samples_leaf)"
   ]
  },
  {
   "cell_type": "code",
   "execution_count": 2,
   "metadata": {
    "ExecuteTime": {
     "end_time": "2020-06-29T14:25:14.950480Z",
     "start_time": "2020-06-29T04:16:55.736173Z"
    }
   },
   "outputs": [
    {
     "name": "stderr",
     "output_type": "stream",
     "text": [
      "/home/narquette/anaconda/envs/capstone/lib/python3.7/site-packages/sklearn/ensemble/_forest.py:832: UserWarning: Some inputs do not have OOB scores. This probably means too few trees were used to compute any reliable oob estimates.\n",
      "  warn(\"Some inputs do not have OOB scores. \"\n",
      "/home/narquette/anaconda/envs/capstone/lib/python3.7/site-packages/sklearn/ensemble/_forest.py:832: UserWarning: Some inputs do not have OOB scores. This probably means too few trees were used to compute any reliable oob estimates.\n",
      "  warn(\"Some inputs do not have OOB scores. \"\n",
      "/home/narquette/anaconda/envs/capstone/lib/python3.7/site-packages/sklearn/ensemble/_forest.py:832: UserWarning: Some inputs do not have OOB scores. This probably means too few trees were used to compute any reliable oob estimates.\n",
      "  warn(\"Some inputs do not have OOB scores. \"\n",
      "/home/narquette/anaconda/envs/capstone/lib/python3.7/site-packages/sklearn/ensemble/_forest.py:832: UserWarning: Some inputs do not have OOB scores. This probably means too few trees were used to compute any reliable oob estimates.\n",
      "  warn(\"Some inputs do not have OOB scores. \"\n",
      "/home/narquette/anaconda/envs/capstone/lib/python3.7/site-packages/sklearn/ensemble/_forest.py:832: UserWarning: Some inputs do not have OOB scores. This probably means too few trees were used to compute any reliable oob estimates.\n",
      "  warn(\"Some inputs do not have OOB scores. \"\n"
     ]
    }
   ],
   "source": [
    "from helperFile import random_tune, MachineLearning, numeric_columns, category_columns\n",
    "from sklearn.ensemble import RandomForestRegressor\n",
    "\n",
    "# store name to be use in results\n",
    "model = 'RandomForest'\n",
    "\n",
    "machine_learning = MachineLearning(data=os.path.join('../data','cleaned','train_data_clean.tar.gz'), \n",
    "                                   label='salary'\n",
    "                                   log_file=os.path.join('../logs', f\"{model}\"))\n",
    "\n",
    "# set up pre-processing\n",
    "preprocessing = machine_learning.PreProcessing(scale_cols=numeric_columns, \n",
    "                                               one_hot_cols=category_columns)\n",
    "\n",
    "# store results as a list of tuples\n",
    "results = []\n",
    "\n",
    "# loop through each paramter and parameter value\n",
    "for key, values in random_tune.items():\n",
    "    # loop through each \n",
    "    for value in values:\n",
    "        \n",
    "        # set parameter and value to tune\n",
    "        parameter = { key : value }\n",
    "        \n",
    "        # perform random forst\n",
    "        score = machine_learning.RandomForestTune(parameter_dict=parameter)\n",
    "        \n",
    "        results.append((key, value, score))"
   ]
  },
  {
   "cell_type": "markdown",
   "metadata": {},
   "source": [
    "#### Show Best parameters for Random Forest"
   ]
  },
  {
   "cell_type": "code",
   "execution_count": 3,
   "metadata": {
    "ExecuteTime": {
     "end_time": "2020-06-29T14:25:14.969505Z",
     "start_time": "2020-06-29T14:25:14.954745Z"
    }
   },
   "outputs": [
    {
     "name": "stdout",
     "output_type": "stream",
     "text": [
      "{'max_depth': 20, 'n_estimators': 100, 'max_features': 0.7, 'min_samples_leaf': 7}\n"
     ]
    }
   ],
   "source": [
    "# store best result to be used as parameter\n",
    "best_results_dict = {}\n",
    "\n",
    "# loop through all parameter keys\n",
    "for key in random_tune.keys():\n",
    "    \n",
    "    # get the values for current key\n",
    "    values = [val for val in results if val[0] == key]\n",
    "    # get the score for current key\n",
    "    scores = [val[2] for val in values]\n",
    "    # get parameter for current key and max score\n",
    "    best_score = [val for val in values if val[2] == max(scores)]\n",
    "    # set diction with best parameter and parameter value\n",
    "    best_results_dict[best_score[0][0]] = best_score[0][1]\n",
    "    \n",
    "# print out results\n",
    "print(best_results_dict)"
   ]
  },
  {
   "cell_type": "markdown",
   "metadata": {},
   "source": [
    "#### Final, Tuned, Random Forest"
   ]
  },
  {
   "cell_type": "code",
   "execution_count": 1,
   "metadata": {
    "ExecuteTime": {
     "end_time": "2020-06-30T21:30:04.318083Z",
     "start_time": "2020-06-30T21:26:20.454038Z"
    }
   },
   "outputs": [
    {
     "name": "stdout",
     "output_type": "stream",
     "text": [
      "0.7546346586630361 366.89019843828635\n"
     ]
    }
   ],
   "source": [
    "import os\n",
    "from helperFile import random_tune, MachineLearning, numeric_columns, category_columns\n",
    "from sklearn.ensemble import RandomForestRegressor\n",
    "\n",
    "# set model name\n",
    "model = 'RandomForest'\n",
    "\n",
    "# load data\n",
    "machine_learning = MachineLearning(data=os.path.join('../data', 'cleaned', 'train_data_clean.tar.gz'),\n",
    "                                   label='salary',\n",
    "                                   log_file=os.path.join('../logs', f\"{model}\"))\n",
    "\n",
    "# setup pre processing\n",
    "preprocessing = machine_learning.PreProcessing(scale_cols=numeric_columns,\n",
    "                                               one_hot_cols=category_columns)\n",
    "\n",
    "# set best_results_dict\n",
    "best_results_dict = {'max_depth': 20, 'n_estimators': 100,\n",
    "                     'max_features': .7, 'min_samples_leaf': 7}\n",
    "\n",
    "# perform random forest using best parameters\n",
    "score, mse = machine_learning.RandomForest(parameter_dict=best_results_dict)\n",
    "\n",
    "# print final model score\n",
    "print(score, mse)"
   ]
  },
  {
   "cell_type": "markdown",
   "metadata": {},
   "source": [
    "#### Tune XGBoost"
   ]
  },
  {
   "cell_type": "code",
   "execution_count": 1,
   "metadata": {
    "ExecuteTime": {
     "end_time": "2020-06-26T20:03:31.809146Z",
     "start_time": "2020-06-26T19:32:19.011909Z"
    }
   },
   "outputs": [
    {
     "name": "stdout",
     "output_type": "stream",
     "text": [
      "[14:32:26] WARNING: /workspace/src/objective/regression_obj.cu:170: reg:linear is now deprecated in favor of reg:squarederror.\n",
      "[14:32:26] WARNING: /workspace/src/learner.cc:480: \n",
      "Parameters: { silent } might not be used.\n",
      "\n",
      "  This may not be accurate due to some parameters are only used in language bindings but\n",
      "  passed down to XGBoost core.  Or some parameters are not used but slip through this\n",
      "  verification. Please open an issue if you find above cases.\n",
      "\n",
      "\n",
      "[14:33:23] WARNING: /workspace/src/objective/regression_obj.cu:170: reg:linear is now deprecated in favor of reg:squarederror.\n",
      "[14:33:31] WARNING: /workspace/src/objective/regression_obj.cu:170: reg:linear is now deprecated in favor of reg:squarederror.\n",
      "[14:33:31] WARNING: /workspace/src/learner.cc:480: \n",
      "Parameters: { silent } might not be used.\n",
      "\n",
      "  This may not be accurate due to some parameters are only used in language bindings but\n",
      "  passed down to XGBoost core.  Or some parameters are not used but slip through this\n",
      "  verification. Please open an issue if you find above cases.\n",
      "\n",
      "\n",
      "[14:34:25] WARNING: /workspace/src/objective/regression_obj.cu:170: reg:linear is now deprecated in favor of reg:squarederror.\n",
      "[14:34:32] WARNING: /workspace/src/objective/regression_obj.cu:170: reg:linear is now deprecated in favor of reg:squarederror.\n",
      "[14:34:32] WARNING: /workspace/src/learner.cc:480: \n",
      "Parameters: { silent } might not be used.\n",
      "\n",
      "  This may not be accurate due to some parameters are only used in language bindings but\n",
      "  passed down to XGBoost core.  Or some parameters are not used but slip through this\n",
      "  verification. Please open an issue if you find above cases.\n",
      "\n",
      "\n",
      "[14:35:30] WARNING: /workspace/src/objective/regression_obj.cu:170: reg:linear is now deprecated in favor of reg:squarederror.\n",
      "[14:35:37] WARNING: /workspace/src/objective/regression_obj.cu:170: reg:linear is now deprecated in favor of reg:squarederror.\n",
      "[14:35:37] WARNING: /workspace/src/learner.cc:480: \n",
      "Parameters: { silent } might not be used.\n",
      "\n",
      "  This may not be accurate due to some parameters are only used in language bindings but\n",
      "  passed down to XGBoost core.  Or some parameters are not used but slip through this\n",
      "  verification. Please open an issue if you find above cases.\n",
      "\n",
      "\n",
      "[14:36:33] WARNING: /workspace/src/objective/regression_obj.cu:170: reg:linear is now deprecated in favor of reg:squarederror.\n",
      "[14:36:41] WARNING: /workspace/src/objective/regression_obj.cu:170: reg:linear is now deprecated in favor of reg:squarederror.\n",
      "[14:36:41] WARNING: /workspace/src/learner.cc:480: \n",
      "Parameters: { silent } might not be used.\n",
      "\n",
      "  This may not be accurate due to some parameters are only used in language bindings but\n",
      "  passed down to XGBoost core.  Or some parameters are not used but slip through this\n",
      "  verification. Please open an issue if you find above cases.\n",
      "\n",
      "\n",
      "[14:37:37] WARNING: /workspace/src/objective/regression_obj.cu:170: reg:linear is now deprecated in favor of reg:squarederror.\n",
      "[14:37:44] WARNING: /workspace/src/objective/regression_obj.cu:170: reg:linear is now deprecated in favor of reg:squarederror.\n",
      "[14:37:44] WARNING: /workspace/src/learner.cc:480: \n",
      "Parameters: { silent } might not be used.\n",
      "\n",
      "  This may not be accurate due to some parameters are only used in language bindings but\n",
      "  passed down to XGBoost core.  Or some parameters are not used but slip through this\n",
      "  verification. Please open an issue if you find above cases.\n",
      "\n",
      "\n",
      "[14:38:39] WARNING: /workspace/src/objective/regression_obj.cu:170: reg:linear is now deprecated in favor of reg:squarederror.\n",
      "[14:38:46] WARNING: /workspace/src/objective/regression_obj.cu:170: reg:linear is now deprecated in favor of reg:squarederror.\n",
      "[14:38:46] WARNING: /workspace/src/learner.cc:480: \n",
      "Parameters: { silent } might not be used.\n",
      "\n",
      "  This may not be accurate due to some parameters are only used in language bindings but\n",
      "  passed down to XGBoost core.  Or some parameters are not used but slip through this\n",
      "  verification. Please open an issue if you find above cases.\n",
      "\n",
      "\n",
      "[14:39:43] WARNING: /workspace/src/objective/regression_obj.cu:170: reg:linear is now deprecated in favor of reg:squarederror.\n",
      "[14:39:50] WARNING: /workspace/src/objective/regression_obj.cu:170: reg:linear is now deprecated in favor of reg:squarederror.\n",
      "[14:39:50] WARNING: /workspace/src/learner.cc:480: \n",
      "Parameters: { silent } might not be used.\n",
      "\n",
      "  This may not be accurate due to some parameters are only used in language bindings but\n",
      "  passed down to XGBoost core.  Or some parameters are not used but slip through this\n",
      "  verification. Please open an issue if you find above cases.\n",
      "\n",
      "\n",
      "[14:40:08] WARNING: /workspace/src/objective/regression_obj.cu:170: reg:linear is now deprecated in favor of reg:squarederror.\n",
      "[14:40:12] WARNING: /workspace/src/objective/regression_obj.cu:170: reg:linear is now deprecated in favor of reg:squarederror.\n",
      "[14:40:12] WARNING: /workspace/src/learner.cc:480: \n",
      "Parameters: { silent } might not be used.\n",
      "\n",
      "  This may not be accurate due to some parameters are only used in language bindings but\n",
      "  passed down to XGBoost core.  Or some parameters are not used but slip through this\n",
      "  verification. Please open an issue if you find above cases.\n",
      "\n",
      "\n",
      "[14:40:35] WARNING: /workspace/src/objective/regression_obj.cu:170: reg:linear is now deprecated in favor of reg:squarederror.\n",
      "[14:40:40] WARNING: /workspace/src/objective/regression_obj.cu:170: reg:linear is now deprecated in favor of reg:squarederror.\n",
      "[14:40:40] WARNING: /workspace/src/learner.cc:480: \n",
      "Parameters: { silent } might not be used.\n",
      "\n",
      "  This may not be accurate due to some parameters are only used in language bindings but\n",
      "  passed down to XGBoost core.  Or some parameters are not used but slip through this\n",
      "  verification. Please open an issue if you find above cases.\n",
      "\n",
      "\n",
      "[14:41:09] WARNING: /workspace/src/objective/regression_obj.cu:170: reg:linear is now deprecated in favor of reg:squarederror.\n",
      "[14:41:15] WARNING: /workspace/src/objective/regression_obj.cu:170: reg:linear is now deprecated in favor of reg:squarederror.\n",
      "[14:41:15] WARNING: /workspace/src/learner.cc:480: \n",
      "Parameters: { silent } might not be used.\n",
      "\n",
      "  This may not be accurate due to some parameters are only used in language bindings but\n",
      "  passed down to XGBoost core.  Or some parameters are not used but slip through this\n",
      "  verification. Please open an issue if you find above cases.\n",
      "\n",
      "\n",
      "[14:41:53] WARNING: /workspace/src/objective/regression_obj.cu:170: reg:linear is now deprecated in favor of reg:squarederror.\n",
      "[14:41:59] WARNING: /workspace/src/objective/regression_obj.cu:170: reg:linear is now deprecated in favor of reg:squarederror.\n",
      "[14:41:59] WARNING: /workspace/src/learner.cc:480: \n",
      "Parameters: { silent } might not be used.\n",
      "\n",
      "  This may not be accurate due to some parameters are only used in language bindings but\n",
      "  passed down to XGBoost core.  Or some parameters are not used but slip through this\n",
      "  verification. Please open an issue if you find above cases.\n",
      "\n",
      "\n",
      "[14:42:44] WARNING: /workspace/src/objective/regression_obj.cu:170: reg:linear is now deprecated in favor of reg:squarederror.\n",
      "[14:42:50] WARNING: /workspace/src/objective/regression_obj.cu:170: reg:linear is now deprecated in favor of reg:squarederror.\n",
      "[14:42:50] WARNING: /workspace/src/learner.cc:480: \n",
      "Parameters: { silent } might not be used.\n",
      "\n",
      "  This may not be accurate due to some parameters are only used in language bindings but\n",
      "  passed down to XGBoost core.  Or some parameters are not used but slip through this\n",
      "  verification. Please open an issue if you find above cases.\n",
      "\n",
      "\n",
      "[14:44:22] WARNING: /workspace/src/objective/regression_obj.cu:170: reg:linear is now deprecated in favor of reg:squarederror.\n",
      "[14:44:33] WARNING: /workspace/src/objective/regression_obj.cu:170: reg:linear is now deprecated in favor of reg:squarederror.\n",
      "[14:44:33] WARNING: /workspace/src/learner.cc:480: \n",
      "Parameters: { silent } might not be used.\n",
      "\n",
      "  This may not be accurate due to some parameters are only used in language bindings but\n",
      "  passed down to XGBoost core.  Or some parameters are not used but slip through this\n",
      "  verification. Please open an issue if you find above cases.\n",
      "\n",
      "\n",
      "[14:48:37] WARNING: /workspace/src/objective/regression_obj.cu:170: reg:linear is now deprecated in favor of reg:squarederror.\n"
     ]
    },
    {
     "name": "stdout",
     "output_type": "stream",
     "text": [
      "[14:49:34] WARNING: /workspace/src/objective/regression_obj.cu:170: reg:linear is now deprecated in favor of reg:squarederror.\n",
      "[14:49:34] WARNING: /workspace/src/learner.cc:480: \n",
      "Parameters: { silent } might not be used.\n",
      "\n",
      "  This may not be accurate due to some parameters are only used in language bindings but\n",
      "  passed down to XGBoost core.  Or some parameters are not used but slip through this\n",
      "  verification. Please open an issue if you find above cases.\n",
      "\n",
      "\n",
      "[14:58:23] WARNING: /workspace/src/objective/regression_obj.cu:170: reg:linear is now deprecated in favor of reg:squarederror.\n",
      "[14:59:19] WARNING: /workspace/src/objective/regression_obj.cu:170: reg:linear is now deprecated in favor of reg:squarederror.\n",
      "[14:59:19] WARNING: /workspace/src/learner.cc:480: \n",
      "Parameters: { silent } might not be used.\n",
      "\n",
      "  This may not be accurate due to some parameters are only used in language bindings but\n",
      "  passed down to XGBoost core.  Or some parameters are not used but slip through this\n",
      "  verification. Please open an issue if you find above cases.\n",
      "\n",
      "\n",
      "[14:59:20] WARNING: /workspace/src/objective/regression_obj.cu:170: reg:linear is now deprecated in favor of reg:squarederror.\n",
      "[14:59:24] WARNING: /workspace/src/objective/regression_obj.cu:170: reg:linear is now deprecated in favor of reg:squarederror.\n",
      "[14:59:24] WARNING: /workspace/src/learner.cc:480: \n",
      "Parameters: { silent } might not be used.\n",
      "\n",
      "  This may not be accurate due to some parameters are only used in language bindings but\n",
      "  passed down to XGBoost core.  Or some parameters are not used but slip through this\n",
      "  verification. Please open an issue if you find above cases.\n",
      "\n",
      "\n",
      "[14:59:26] WARNING: /workspace/src/objective/regression_obj.cu:170: reg:linear is now deprecated in favor of reg:squarederror.\n",
      "[14:59:30] WARNING: /workspace/src/objective/regression_obj.cu:170: reg:linear is now deprecated in favor of reg:squarederror.\n",
      "[14:59:30] WARNING: /workspace/src/learner.cc:480: \n",
      "Parameters: { silent } might not be used.\n",
      "\n",
      "  This may not be accurate due to some parameters are only used in language bindings but\n",
      "  passed down to XGBoost core.  Or some parameters are not used but slip through this\n",
      "  verification. Please open an issue if you find above cases.\n",
      "\n",
      "\n",
      "[14:59:32] WARNING: /workspace/src/objective/regression_obj.cu:170: reg:linear is now deprecated in favor of reg:squarederror.\n",
      "[14:59:36] WARNING: /workspace/src/objective/regression_obj.cu:170: reg:linear is now deprecated in favor of reg:squarederror.\n",
      "[14:59:36] WARNING: /workspace/src/learner.cc:480: \n",
      "Parameters: { silent } might not be used.\n",
      "\n",
      "  This may not be accurate due to some parameters are only used in language bindings but\n",
      "  passed down to XGBoost core.  Or some parameters are not used but slip through this\n",
      "  verification. Please open an issue if you find above cases.\n",
      "\n",
      "\n",
      "[14:59:38] WARNING: /workspace/src/objective/regression_obj.cu:170: reg:linear is now deprecated in favor of reg:squarederror.\n",
      "[14:59:42] WARNING: /workspace/src/objective/regression_obj.cu:170: reg:linear is now deprecated in favor of reg:squarederror.\n",
      "[14:59:42] WARNING: /workspace/src/learner.cc:480: \n",
      "Parameters: { silent } might not be used.\n",
      "\n",
      "  This may not be accurate due to some parameters are only used in language bindings but\n",
      "  passed down to XGBoost core.  Or some parameters are not used but slip through this\n",
      "  verification. Please open an issue if you find above cases.\n",
      "\n",
      "\n",
      "[14:59:45] WARNING: /workspace/src/objective/regression_obj.cu:170: reg:linear is now deprecated in favor of reg:squarederror.\n",
      "[14:59:49] WARNING: /workspace/src/objective/regression_obj.cu:170: reg:linear is now deprecated in favor of reg:squarederror.\n",
      "[14:59:49] WARNING: /workspace/src/learner.cc:480: \n",
      "Parameters: { silent } might not be used.\n",
      "\n",
      "  This may not be accurate due to some parameters are only used in language bindings but\n",
      "  passed down to XGBoost core.  Or some parameters are not used but slip through this\n",
      "  verification. Please open an issue if you find above cases.\n",
      "\n",
      "\n",
      "[14:59:57] WARNING: /workspace/src/objective/regression_obj.cu:170: reg:linear is now deprecated in favor of reg:squarederror.\n",
      "[15:00:03] WARNING: /workspace/src/objective/regression_obj.cu:170: reg:linear is now deprecated in favor of reg:squarederror.\n",
      "[15:00:03] WARNING: /workspace/src/learner.cc:480: \n",
      "Parameters: { silent } might not be used.\n",
      "\n",
      "  This may not be accurate due to some parameters are only used in language bindings but\n",
      "  passed down to XGBoost core.  Or some parameters are not used but slip through this\n",
      "  verification. Please open an issue if you find above cases.\n",
      "\n",
      "\n",
      "[15:00:13] WARNING: /workspace/src/objective/regression_obj.cu:170: reg:linear is now deprecated in favor of reg:squarederror.\n",
      "[15:00:19] WARNING: /workspace/src/objective/regression_obj.cu:170: reg:linear is now deprecated in favor of reg:squarederror.\n",
      "[15:00:19] WARNING: /workspace/src/learner.cc:480: \n",
      "Parameters: { silent } might not be used.\n",
      "\n",
      "  This may not be accurate due to some parameters are only used in language bindings but\n",
      "  passed down to XGBoost core.  Or some parameters are not used but slip through this\n",
      "  verification. Please open an issue if you find above cases.\n",
      "\n",
      "\n",
      "[15:00:33] WARNING: /workspace/src/objective/regression_obj.cu:170: reg:linear is now deprecated in favor of reg:squarederror.\n",
      "[15:00:39] WARNING: /workspace/src/objective/regression_obj.cu:170: reg:linear is now deprecated in favor of reg:squarederror.\n",
      "[15:00:39] WARNING: /workspace/src/learner.cc:480: \n",
      "Parameters: { silent } might not be used.\n",
      "\n",
      "  This may not be accurate due to some parameters are only used in language bindings but\n",
      "  passed down to XGBoost core.  Or some parameters are not used but slip through this\n",
      "  verification. Please open an issue if you find above cases.\n",
      "\n",
      "\n",
      "[15:01:05] WARNING: /workspace/src/objective/regression_obj.cu:170: reg:linear is now deprecated in favor of reg:squarederror.\n",
      "[15:01:11] WARNING: /workspace/src/objective/regression_obj.cu:170: reg:linear is now deprecated in favor of reg:squarederror.\n",
      "[15:01:11] WARNING: /workspace/src/learner.cc:480: \n",
      "Parameters: { silent } might not be used.\n",
      "\n",
      "  This may not be accurate due to some parameters are only used in language bindings but\n",
      "  passed down to XGBoost core.  Or some parameters are not used but slip through this\n",
      "  verification. Please open an issue if you find above cases.\n",
      "\n",
      "\n",
      "[15:01:39] WARNING: /workspace/src/objective/regression_obj.cu:170: reg:linear is now deprecated in favor of reg:squarederror.\n",
      "[15:01:44] WARNING: /workspace/src/objective/regression_obj.cu:170: reg:linear is now deprecated in favor of reg:squarederror.\n",
      "[15:01:44] WARNING: /workspace/src/learner.cc:480: \n",
      "Parameters: { silent } might not be used.\n",
      "\n",
      "  This may not be accurate due to some parameters are only used in language bindings but\n",
      "  passed down to XGBoost core.  Or some parameters are not used but slip through this\n",
      "  verification. Please open an issue if you find above cases.\n",
      "\n",
      "\n",
      "[15:02:25] WARNING: /workspace/src/objective/regression_obj.cu:170: reg:linear is now deprecated in favor of reg:squarederror.\n",
      "[15:02:31] WARNING: /workspace/src/objective/regression_obj.cu:170: reg:linear is now deprecated in favor of reg:squarederror.\n",
      "[15:02:31] WARNING: /workspace/src/learner.cc:480: \n",
      "Parameters: { silent } might not be used.\n",
      "\n",
      "  This may not be accurate due to some parameters are only used in language bindings but\n",
      "  passed down to XGBoost core.  Or some parameters are not used but slip through this\n",
      "  verification. Please open an issue if you find above cases.\n",
      "\n",
      "\n",
      "[15:03:27] WARNING: /workspace/src/objective/regression_obj.cu:170: reg:linear is now deprecated in favor of reg:squarederror.\n"
     ]
    }
   ],
   "source": [
    "# import tuneing parameters\n",
    "import os\n",
    "from helperFile import MachineLearning, xgb_tune, numeric_columns, category_columns\n",
    "\n",
    "# set model name\n",
    "model = 'XGBoost'\n",
    "\n",
    "# load data\n",
    "machine_learning = MachineLearning(data=os.path.join('../data', 'cleaned', 'train_data_clean.tar.gz'),\n",
    "                                   label='salary',\n",
    "                                   log_file=os.path.join('../logs', f\"{model}\"))\n",
    "\n",
    "# perform pre-processing\n",
    "preprocessing = machine_learning.PreProcessing(scale_cols=numeric_columns,\n",
    "                                               one_hot_cols=category_columns)\n",
    "\n",
    "# store results as a list of tuples\n",
    "results = []\n",
    "\n",
    "# loop through each paramter and parameter value\n",
    "for key, values in xgb_tune.items():\n",
    "    # loop through each\n",
    "    for value in values:\n",
    "\n",
    "        # set parameter and value to tune\n",
    "        parameter = {key: value}\n",
    "\n",
    "        # perform random forst\n",
    "        score = machine_learning.XGboostTune(parameter_dict=parameter)\n",
    "\n",
    "        results.append((key, value, score))"
   ]
  },
  {
   "cell_type": "markdown",
   "metadata": {},
   "source": [
    "#### Show Best Parameters XGBoost"
   ]
  },
  {
   "cell_type": "code",
   "execution_count": 3,
   "metadata": {
    "ExecuteTime": {
     "end_time": "2020-06-26T20:08:31.580820Z",
     "start_time": "2020-06-26T20:08:31.569533Z"
    }
   },
   "outputs": [
    {
     "name": "stdout",
     "output_type": "stream",
     "text": [
      "{'learning_rate': 0.1, 'max_depth': 4, 'n_estimators': 100}\n"
     ]
    }
   ],
   "source": [
    "# store best result to be used as parameter\n",
    "best_results_dict = {}\n",
    "\n",
    "# loop through all parameter keys\n",
    "for key in xgb_tune.keys():\n",
    "\n",
    "    # get the values for current key\n",
    "    values = [val for val in results if val[0] == key]\n",
    "    # get the score for current key\n",
    "    scores = [val[2] for val in values]\n",
    "    # get parameter for current key and max score\n",
    "    best_score = [val for val in values if val[2] == max(scores)]\n",
    "    # set diction with best parameter and parameter value\n",
    "    best_results_dict[best_score[0][0]] = best_score[0][1]\n",
    "\n",
    "# print out results\n",
    "print(best_results_dict)"
   ]
  },
  {
   "cell_type": "markdown",
   "metadata": {},
   "source": [
    "#### Final, Tuned XGBoost"
   ]
  },
  {
   "cell_type": "code",
   "execution_count": 6,
   "metadata": {
    "ExecuteTime": {
     "end_time": "2020-06-30T21:39:58.953728Z",
     "start_time": "2020-06-30T21:39:09.491626Z"
    }
   },
   "outputs": [
    {
     "name": "stdout",
     "output_type": "stream",
     "text": [
      "[16:39:16] WARNING: /workspace/src/learner.cc:480: \n",
      "Parameters: { silent } might not be used.\n",
      "\n",
      "  This may not be accurate due to some parameters are only used in language bindings but\n",
      "  passed down to XGBoost core.  Or some parameters are not used but slip through this\n",
      "  verification. Please open an issue if you find above cases.\n",
      "\n",
      "\n",
      "0.7556651155930785 365.34937549448637\n"
     ]
    }
   ],
   "source": [
    "import os\n",
    "from helperFile import xgb_tune, MachineLearning, numeric_columns, category_columns\n",
    "import xgboost as xgb\n",
    "\n",
    "# set model name\n",
    "model = 'XGBoost' \n",
    "\n",
    "# load data\n",
    "machine_learning = MachineLearning(data=os.path.join('../data','cleaned','train_data_clean.tar.gz'), \n",
    "                                   label='salary',\n",
    "                                   log_file=os.path.join('../logs', f\"{model}\"))\n",
    " \n",
    "# setup pre processing\n",
    "preprocessing = machine_learning.PreProcessing(scale_cols=numeric_columns, \n",
    "                                               one_hot_cols=category_columns)\n",
    "\n",
    "# # set best_results_dict\n",
    "best_results_dict = {'learning_rate': 0.1, 'max_depth': 4, 'n_estimators': 100}\n",
    "\n",
    "# # perform random forest using best parameters\n",
    "score, mse = machine_learning.XGboost(parameter_dict=best_results_dict)\n",
    "        \n",
    "# # print final model score\n",
    "print(score, mse)"
   ]
  },
  {
   "cell_type": "markdown",
   "metadata": {},
   "source": [
    "#### Tune LGBoost"
   ]
  },
  {
   "cell_type": "code",
   "execution_count": 69,
   "metadata": {
    "ExecuteTime": {
     "end_time": "2020-06-29T04:13:46.720740Z",
     "start_time": "2020-06-29T04:07:14.004740Z"
    },
    "code_folding": []
   },
   "outputs": [],
   "source": [
    "# import tuneing parameters\n",
    "import os\n",
    "from helperFile import MachineLearning, lgb_tune, numeric_columns, category_columns\n",
    "\n",
    "# set model name\n",
    "model = 'LGBoost'\n",
    "\n",
    "# load data\n",
    "machine_learning = MachineLearning(data=os.path.join('../data','cleaned','train_data_clean.tar.gz'), \n",
    "                                   label='salary',\n",
    "                                   log_file=os.path.join('../logs', f\"{model}\"))\n",
    " \n",
    "# set columns for preprocessing\n",
    "preprocessing = machine_learning.PreProcessing(scale_cols=numeric_columns, \n",
    "                                               one_hot_cols=category_columns)\n",
    "\n",
    "# store results as a list of tuples\n",
    "results = []\n",
    "\n",
    "# loop through each paramter and parameter value\n",
    "for key, values in lgb_tune.items():\n",
    "    # loop through each \n",
    "    for value in values:\n",
    "        \n",
    "        # set parameter and value to tune\n",
    "        parameter = { key : value }\n",
    "        \n",
    "        # perform random forst\n",
    "        score = machine_learning.LGboost(parameter_dict=parameter)\n",
    "        \n",
    "        results.append((key, value, score))"
   ]
  },
  {
   "cell_type": "markdown",
   "metadata": {},
   "source": [
    "#### Show Best Parameters LGBoost"
   ]
  },
  {
   "cell_type": "code",
   "execution_count": 70,
   "metadata": {
    "ExecuteTime": {
     "end_time": "2020-06-29T04:13:46.735578Z",
     "start_time": "2020-06-29T04:13:46.724607Z"
    }
   },
   "outputs": [
    {
     "name": "stdout",
     "output_type": "stream",
     "text": [
      "{'learning_rate': 0.1, 'max_depth': 9, 'num_leaves': 126, 'n_estimators': 100, 'min_data_in_leaf': 100}\n"
     ]
    }
   ],
   "source": [
    "# store best result to be used as parameter\n",
    "best_results_dict = {}\n",
    "\n",
    "# loop through all parameter keys\n",
    "for key in lgb_tune.keys():\n",
    "    \n",
    "    # get the values for current key\n",
    "    values = [val for val in results if val[0] == key]\n",
    "    # get the score for current key\n",
    "    scores = [val[2] for val in values]\n",
    "    # get parameter for current key and max score\n",
    "    best_score = [val for val in values if val[2] == max(scores)]\n",
    "    # set diction with best parameter and parameter value\n",
    "    best_results_dict[best_score[0][0]] = best_score[0][1]\n",
    "    \n",
    "# print out results\n",
    "print(best_results_dict)"
   ]
  },
  {
   "cell_type": "markdown",
   "metadata": {},
   "source": [
    "#### Final, Tuned LGBoost"
   ]
  },
  {
   "cell_type": "code",
   "execution_count": 8,
   "metadata": {
    "ExecuteTime": {
     "end_time": "2020-06-30T21:44:19.438214Z",
     "start_time": "2020-06-30T21:44:01.605717Z"
    }
   },
   "outputs": [
    {
     "name": "stdout",
     "output_type": "stream",
     "text": [
      "0.7603138576766169 358.39819854249976\n"
     ]
    }
   ],
   "source": [
    "import os\n",
    "from helperFile import xgb_tune, MachineLearning, numeric_columns, category_columns\n",
    "\n",
    "# set model name\n",
    "model = 'LGBoost'\n",
    "\n",
    "# load data\n",
    "machine_learning = MachineLearning(data=os.path.join('../data','cleaned','train_data_clean.tar.gz'), \n",
    "                                   label='salary',\n",
    "                                   log_file=os.path.join('../logs', f\"{model}\"))\n",
    " \n",
    "# setup pre processing\n",
    "preprocessing = machine_learning.PreProcessing(scale_cols=numeric_columns, \n",
    "                                               one_hot_cols=category_columns)\n",
    "\n",
    "# set best_results_dict\n",
    "best_results_dict = {'learning_rate': 0.1, 'max_depth': 9, 'num_leaves': 126, 'n_estimators': 100, 'min_data_in_leaf': 100}\n",
    "\n",
    "# perform random forest using best parameters\n",
    "score, mse = machine_learning.LGboost(parameter_dict=best_results_dict)\n",
    "        \n",
    "# print final model score\n",
    "print(score, mse)"
   ]
  },
  {
   "cell_type": "markdown",
   "metadata": {},
   "source": [
    "### ---- 9 Test models ----"
   ]
  },
  {
   "cell_type": "markdown",
   "metadata": {},
   "source": [
    "#### Linear Regression Cross Validation"
   ]
  },
  {
   "cell_type": "code",
   "execution_count": 1,
   "metadata": {
    "ExecuteTime": {
     "end_time": "2020-06-30T23:18:45.404687Z",
     "start_time": "2020-06-30T23:18:19.539292Z"
    },
    "code_folding": []
   },
   "outputs": [],
   "source": [
    "# do 5-fold cross validation on models and measure MSE\n",
    "import os\n",
    "import numpy as np\n",
    "from helperFile import MachineLearning, numeric_columns, category_columns\n",
    "\n",
    "# store name to be use in results\n",
    "model = 'LinearRegression'\n",
    "\n",
    "# store results for all models\n",
    "cv_results = {}\n",
    "\n",
    "# load data\n",
    "machine_learning = MachineLearning(data=os.path.join('../data', 'cleaned', 'train_data_clean.tar.gz'),\n",
    "                                   label='salary',\n",
    "                                   log_file=os.path.join('../logs', f\"{model}_CrossValidation\")) \n",
    "\n",
    "# setup pre processing\n",
    "preprocessing=machine_learning.PreProcessing(scale_cols = numeric_columns,\n",
    "                                               one_hot_cols = category_columns)\n",
    "\n",
    "# perform random forest using best parameters\n",
    "mse = machine_learning.LinearRegression(cross_validation = True)\n",
    "\n",
    "# print final model score\n",
    "cv_results[model] = np.min(mse)"
   ]
  },
  {
   "cell_type": "markdown",
   "metadata": {},
   "source": [
    "#### Random Forest Cross Validation"
   ]
  },
  {
   "cell_type": "code",
   "execution_count": 2,
   "metadata": {
    "ExecuteTime": {
     "end_time": "2020-06-30T23:44:20.429514Z",
     "start_time": "2020-06-30T23:18:45.407158Z"
    }
   },
   "outputs": [],
   "source": [
    "import os\n",
    "import numpy as np\n",
    "from helperFile import MachineLearning, numeric_columns, category_columns\n",
    "\n",
    "# store name to be use in results\n",
    "model = 'RandomForest'\n",
    "\n",
    "# load data\n",
    "machine_learning = MachineLearning(data=os.path.join('../data','cleaned','train_data_clean.tar.gz'), \n",
    "                                   label='salary',\n",
    "                                   log_file=os.path.join('../logs', f\"{model}_CrossValidation\")) \n",
    "# setup pre processing\n",
    "preprocessing = machine_learning.PreProcessing(scale_cols=numeric_columns, \n",
    "                                               one_hot_cols=category_columns)\n",
    "\n",
    "# set best_results_dict\n",
    "best_results_dict = {'max_depth': 20, 'n_estimators': 100,\n",
    "                     'max_features': .7, 'min_samples_leaf': 7}\n",
    "\n",
    "# perform random forest using best parameters\n",
    "mse = machine_learning.RandomForest(parameter_dict=best_results_dict, cross_validation=True)\n",
    "\n",
    "# print final model score\n",
    "cv_results[model] = np.min(mse)"
   ]
  },
  {
   "cell_type": "markdown",
   "metadata": {},
   "source": [
    "#### XGboost Cross Validation"
   ]
  },
  {
   "cell_type": "code",
   "execution_count": 3,
   "metadata": {
    "ExecuteTime": {
     "end_time": "2020-06-30T23:48:32.955269Z",
     "start_time": "2020-06-30T23:44:20.434344Z"
    }
   },
   "outputs": [
    {
     "name": "stdout",
     "output_type": "stream",
     "text": [
      "[18:44:26] WARNING: /workspace/src/learner.cc:480: \n",
      "Parameters: { silent } might not be used.\n",
      "\n",
      "  This may not be accurate due to some parameters are only used in language bindings but\n",
      "  passed down to XGBoost core.  Or some parameters are not used but slip through this\n",
      "  verification. Please open an issue if you find above cases.\n",
      "\n",
      "\n",
      "[18:45:00] WARNING: /workspace/src/learner.cc:480: \n",
      "Parameters: { silent } might not be used.\n",
      "\n",
      "  This may not be accurate due to some parameters are only used in language bindings but\n",
      "  passed down to XGBoost core.  Or some parameters are not used but slip through this\n",
      "  verification. Please open an issue if you find above cases.\n",
      "\n",
      "\n",
      "[18:45:44] WARNING: /workspace/src/learner.cc:480: \n",
      "Parameters: { silent } might not be used.\n",
      "\n",
      "  This may not be accurate due to some parameters are only used in language bindings but\n",
      "  passed down to XGBoost core.  Or some parameters are not used but slip through this\n",
      "  verification. Please open an issue if you find above cases.\n",
      "\n",
      "\n",
      "[18:46:26] WARNING: /workspace/src/learner.cc:480: \n",
      "Parameters: { silent } might not be used.\n",
      "\n",
      "  This may not be accurate due to some parameters are only used in language bindings but\n",
      "  passed down to XGBoost core.  Or some parameters are not used but slip through this\n",
      "  verification. Please open an issue if you find above cases.\n",
      "\n",
      "\n",
      "[18:47:09] WARNING: /workspace/src/learner.cc:480: \n",
      "Parameters: { silent } might not be used.\n",
      "\n",
      "  This may not be accurate due to some parameters are only used in language bindings but\n",
      "  passed down to XGBoost core.  Or some parameters are not used but slip through this\n",
      "  verification. Please open an issue if you find above cases.\n",
      "\n",
      "\n",
      "[18:47:54] WARNING: /workspace/src/learner.cc:480: \n",
      "Parameters: { silent } might not be used.\n",
      "\n",
      "  This may not be accurate due to some parameters are only used in language bindings but\n",
      "  passed down to XGBoost core.  Or some parameters are not used but slip through this\n",
      "  verification. Please open an issue if you find above cases.\n",
      "\n",
      "\n"
     ]
    }
   ],
   "source": [
    "import os\n",
    "import numpy as np\n",
    "from helperFile import MachineLearning, numeric_columns, category_columns\n",
    "\n",
    "# store name to be use in results\n",
    "model = 'XGboost'\n",
    "\n",
    "# load data\n",
    "machine_learning = MachineLearning(data=os.path.join('../data','cleaned','train_data_clean.tar.gz'), \n",
    "                                   label='salary',\n",
    "                                   log_file=os.path.join('../logs', f\"{model}_CrossValidation\"))\n",
    " \n",
    "# setup pre processing\n",
    "preprocessing = machine_learning.PreProcessing(scale_cols=numeric_columns, \n",
    "                                               one_hot_cols=category_columns)\n",
    "\n",
    "# set best_results_dict\n",
    "best_results_dict = {'learning_rate': 0.1, 'max_depth': 4, 'n_estimators': 100}\n",
    "\n",
    "# perform random forest using best parameters\n",
    "mse = machine_learning.XGboost(parameter_dict=best_results_dict, cross_validation=True)\n",
    "\n",
    "# print final model score\n",
    "cv_results[model] = np.min(mse)"
   ]
  },
  {
   "cell_type": "markdown",
   "metadata": {},
   "source": [
    "#### LGboost Cross Validation"
   ]
  },
  {
   "cell_type": "code",
   "execution_count": 1,
   "metadata": {
    "ExecuteTime": {
     "end_time": "2020-07-01T04:25:38.496152Z",
     "start_time": "2020-07-01T04:25:37.054747Z"
    }
   },
   "outputs": [],
   "source": [
    "import os\n",
    "import numpy as np\n",
    "from helperFile import MachineLearning, numeric_columns, category_columns"
   ]
  },
  {
   "cell_type": "code",
   "execution_count": 4,
   "metadata": {
    "ExecuteTime": {
     "end_time": "2020-06-30T23:49:37.808547Z",
     "start_time": "2020-06-30T23:48:32.957560Z"
    }
   },
   "outputs": [],
   "source": [
    "# store name to be use in results\n",
    "model = 'LGboost'\n",
    "\n",
    "# load data\n",
    "machine_learning = MachineLearning(data=os.path.join('../data','cleaned','train_data_clean.tar.gz'), \n",
    "                                   label='salary',\n",
    "                                   log_file=os.path.join('../logs', f\"{model}_CrossValidation\"))\n",
    " \n",
    "# setup pre processing\n",
    "preprocessing = machine_learning.PreProcessing(scale_cols=numeric_columns, \n",
    "                                               one_hot_cols=category_columns)\n",
    "\n",
    "# set best_results_dict\n",
    "best_results_dict = {'max_depth': 20, 'n_estimators': 100, 'max_features': 'auto', 'min_samples_leaf': 20}\n",
    "\n",
    "# perform random forest using best parameters\n",
    "mse = machine_learning.LGboost(parameter_dict=best_results_dict, cross_validation=True)\n",
    "\n",
    "# print final model score\n",
    "cv_results[model] = np.min(mse)"
   ]
  },
  {
   "cell_type": "markdown",
   "metadata": {},
   "source": [
    "#### Show Model Results"
   ]
  },
  {
   "cell_type": "code",
   "execution_count": 5,
   "metadata": {
    "ExecuteTime": {
     "end_time": "2020-06-30T23:49:37.833280Z",
     "start_time": "2020-06-30T23:49:37.810391Z"
    }
   },
   "outputs": [
    {
     "data": {
      "text/html": [
       "<div>\n",
       "<style scoped>\n",
       "    .dataframe tbody tr th:only-of-type {\n",
       "        vertical-align: middle;\n",
       "    }\n",
       "\n",
       "    .dataframe tbody tr th {\n",
       "        vertical-align: top;\n",
       "    }\n",
       "\n",
       "    .dataframe thead th {\n",
       "        text-align: right;\n",
       "    }\n",
       "</style>\n",
       "<table border=\"1\" class=\"dataframe\">\n",
       "  <thead>\n",
       "    <tr style=\"text-align: right;\">\n",
       "      <th></th>\n",
       "      <th>Model</th>\n",
       "      <th>MeanSquaredError</th>\n",
       "    </tr>\n",
       "  </thead>\n",
       "  <tbody>\n",
       "    <tr>\n",
       "      <th>0</th>\n",
       "      <td>LinearRegression</td>\n",
       "      <td>386.671790</td>\n",
       "    </tr>\n",
       "    <tr>\n",
       "      <th>1</th>\n",
       "      <td>RandomForest</td>\n",
       "      <td>363.515117</td>\n",
       "    </tr>\n",
       "    <tr>\n",
       "      <th>2</th>\n",
       "      <td>XGboost</td>\n",
       "      <td>363.107490</td>\n",
       "    </tr>\n",
       "    <tr>\n",
       "      <th>3</th>\n",
       "      <td>LGboost</td>\n",
       "      <td>356.793879</td>\n",
       "    </tr>\n",
       "  </tbody>\n",
       "</table>\n",
       "</div>"
      ],
      "text/plain": [
       "              Model  MeanSquaredError\n",
       "0  LinearRegression        386.671790\n",
       "1      RandomForest        363.515117\n",
       "2           XGboost        363.107490\n",
       "3           LGboost        356.793879"
      ]
     },
     "execution_count": 5,
     "metadata": {},
     "output_type": "execute_result"
    }
   ],
   "source": [
    "import pandas as pd\n",
    "model_dataframe = pd.DataFrame()\n",
    "model_dataframe['Model'] = cv_results.keys()\n",
    "model_dataframe['MeanSquaredError'] = cv_results.values()\n",
    "model_dataframe"
   ]
  },
  {
   "cell_type": "markdown",
   "metadata": {},
   "source": [
    "### ---- 10 Select best model  ----"
   ]
  },
  {
   "cell_type": "code",
   "execution_count": null,
   "metadata": {},
   "outputs": [],
   "source": [
    "#select the model with the lowest error as your \"production\" model\n"
   ]
  },
  {
   "cell_type": "markdown",
   "metadata": {},
   "source": [
    "## Part 4 - DEPLOY"
   ]
  },
  {
   "cell_type": "markdown",
   "metadata": {},
   "source": [
    "### ---- 11 Automate pipeline ----"
   ]
  },
  {
   "cell_type": "code",
   "execution_count": null,
   "metadata": {},
   "outputs": [],
   "source": [
    "#write script that trains model on entire training set, saves model to disk,\n",
    "#and scores the \"test\" dataset\n"
   ]
  },
  {
   "cell_type": "markdown",
   "metadata": {},
   "source": [
    "### ---- 12 Deploy solution ----"
   ]
  },
  {
   "cell_type": "code",
   "execution_count": 16,
   "metadata": {},
   "outputs": [],
   "source": [
    "#save your prediction to a csv file or optionally save them as a table in a SQL database\n",
    "#additionally, you want to save a visualization and summary of your prediction and feature importances\n",
    "#these visualizations and summaries will be extremely useful to business stakeholders"
   ]
  },
  {
   "cell_type": "markdown",
   "metadata": {},
   "source": [
    "### ---- 13 Measure efficacy ----"
   ]
  },
  {
   "cell_type": "markdown",
   "metadata": {},
   "source": [
    "We'll skip this step since we don't have the outcomes for the test data"
   ]
  }
 ],
 "metadata": {
  "kernelspec": {
   "display_name": "Python (dscience)",
   "language": "python",
   "name": "dscience"
  },
  "language_info": {
   "codemirror_mode": {
    "name": "ipython",
    "version": 3
   },
   "file_extension": ".py",
   "mimetype": "text/x-python",
   "name": "python",
   "nbconvert_exporter": "python",
   "pygments_lexer": "ipython3",
   "version": "3.7.7"
  },
  "toc": {
   "base_numbering": 1,
   "nav_menu": {},
   "number_sections": true,
   "sideBar": true,
   "skip_h1_title": false,
   "title_cell": "Table of Contents",
   "title_sidebar": "Contents",
   "toc_cell": false,
   "toc_position": {
    "height": "calc(100% - 180px)",
    "left": "10px",
    "top": "150px",
    "width": "299.08px"
   },
   "toc_section_display": true,
   "toc_window_display": true
  }
 },
 "nbformat": 4,
 "nbformat_minor": 2
}
